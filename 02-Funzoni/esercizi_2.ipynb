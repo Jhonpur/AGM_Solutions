{
 "cells": [
  {
   "cell_type": "code",
   "execution_count": 2,
   "id": "4cf016cd",
   "metadata": {},
   "outputs": [
    {
     "name": "stdout",
     "output_type": "stream",
     "text": [
      "Il prodotto tra 2 e 2 è: 4\n"
     ]
    }
   ],
   "source": [
    "#1 Scrivere un'espressione che calcola il valore del prodotto tra due numeri interi.\n",
    "x = 2\n",
    "y = 2\n",
    "\n",
    "print(\"Il prodotto tra\", x, 'e', y, 'è:', x*y)"
   ]
  },
  {
   "cell_type": "code",
   "execution_count": 3,
   "id": "7df82711",
   "metadata": {},
   "outputs": [
    {
     "name": "stdout",
     "output_type": "stream",
     "text": [
      "16\n"
     ]
    }
   ],
   "source": [
    "#2 Scrivere un'espressione che calcola il valore dell'operazione di esponenziazione tra due numeri interi a e b.\n",
    "a = 2\n",
    "b = 2\n",
    "\n",
    "print((a + b)**2)"
   ]
  },
  {
   "cell_type": "code",
   "execution_count": null,
   "id": "a7d15c0a",
   "metadata": {},
   "outputs": [],
   "source": [
    "#3 Scrivere un'espressione che concatena due stringhe s1 e s2.\n",
    "s1 = 'soc'\n",
    "s2 = 'corre'\n",
    "\n",
    "s3 = s1 + s2"
   ]
  },
  {
   "cell_type": "code",
   "execution_count": null,
   "id": "91769620",
   "metadata": {},
   "outputs": [
    {
     "name": "stdout",
     "output_type": "stream",
     "text": [
      "numero pari\n"
     ]
    }
   ],
   "source": [
    "#4 Scrivere un'espressione che verifica se un numero intero x è pari o dispari.\n",
    "n = 26\n",
    "print('numero pari') if n % 2 == 0 else print('numero dispari')"
   ]
  },
  {
   "cell_type": "code",
   "execution_count": null,
   "id": "e83e5cda",
   "metadata": {},
   "outputs": [
    {
     "name": "stdout",
     "output_type": "stream",
     "text": [
      "78.53981633974483\n"
     ]
    }
   ],
   "source": [
    "#5 Scrivere un'espressione che calcola il valore dell'area di un cerchio di raggio r.\n",
    "import math\n",
    "r = 5\n",
    "\n",
    "print((math.pi) * r**2)"
   ]
  },
  {
   "cell_type": "code",
   "execution_count": 5,
   "id": "ee327337",
   "metadata": {},
   "outputs": [],
   "source": [
    "#6 Scrivere un'espressione che calcola la somma dei quadrati di due numeri interi a e b.\n",
    "a = 2\n",
    "b = 3\n",
    "\n",
    "c = a**2 + b**2"
   ]
  },
  {
   "cell_type": "code",
   "execution_count": 4,
   "id": "8b1dd36b",
   "metadata": {},
   "outputs": [
    {
     "data": {
      "text/plain": [
       "7.333333333333333"
      ]
     },
     "execution_count": 4,
     "metadata": {},
     "output_type": "execute_result"
    }
   ],
   "source": [
    "#7 Scrivere un'espressione che calcola il valore della media aritmetica di una lista di numeri n.\n",
    "n = [6,9,4,10,8,7]\n",
    "\n",
    "(sum(n)) / len(n)"
   ]
  },
  {
   "cell_type": "code",
   "execution_count": null,
   "id": "26d98bc9",
   "metadata": {},
   "outputs": [
    {
     "name": "stdout",
     "output_type": "stream",
     "text": [
      "10\n"
     ]
    }
   ],
   "source": [
    "#8 Scrivere un'espressione che restituisce il valore massimo di una lista di numeri.\n",
    "numeri = [6,9,4,10,8,7]\n",
    "nMax = numeri[0]\n",
    "for n in numeri:\n",
    "    if n > nMax:\n",
    "        nMax = n\n",
    "print(nMax)"
   ]
  },
  {
   "cell_type": "code",
   "execution_count": null,
   "id": "0865055b",
   "metadata": {},
   "outputs": [],
   "source": [
    "#9 Scrivere un identificatore valido e uno non valido.\n",
    "numero = 0       #VALIDO\n",
    "Stringa = ciao #NON VALIDO"
   ]
  },
  {
   "cell_type": "code",
   "execution_count": 6,
   "id": "ee7af9d4",
   "metadata": {},
   "outputs": [],
   "source": [
    "#10 Qual è la convenzione di naming per le variabili e per le costanti in Python?\n",
    "variabile = 'valore'\n",
    "COSTANTE = 23"
   ]
  },
  {
   "cell_type": "code",
   "execution_count": null,
   "id": "e76ea76b",
   "metadata": {},
   "outputs": [],
   "source": [
    "#11 Qual è l'identificatore riservato in Python per indicare una funzione lambda?\n"
   ]
  },
  {
   "cell_type": "code",
   "execution_count": 11,
   "id": "f2ea643a",
   "metadata": {},
   "outputs": [
    {
     "name": "stdout",
     "output_type": "stream",
     "text": [
      "4\n"
     ]
    }
   ],
   "source": [
    "#12 Scrivere un programma che richiede all'utente d’inserire un numero intero e stampa il suo quadrato. In caso d’inserimento di un valore non valido, il programma deve gestire l'eccezione e stampare un messaggio di errore.\n",
    "numero = input('Dammi un numero intero ed io lo raddopierò!\\n')\n",
    "\n",
    "try:\n",
    "    numeroDoppio = int(numero)**2\n",
    "    print(numeroDoppio)\n",
    "except:\n",
    "    print('Errore, prova fornire un nuovo numero intero!')"
   ]
  },
  {
   "cell_type": "code",
   "execution_count": null,
   "id": "9f65820a",
   "metadata": {},
   "outputs": [
    {
     "name": "stdout",
     "output_type": "stream",
     "text": [
      "Ciao da Lorenzo, come stai?\n",
      "Non stai bene?\n",
      "Peccato, potevamo andare a bere."
     ]
    }
   ],
   "source": [
    "#13 Scrivere un programma che apre un file di testo e stampa il suo contenuto riga per riga. In caso di errore nell'apertura del file, il programma deve gestire l'eccezione e stampare un messaggio di errore.\n",
    "#VERSIONE SENZA GESIONE ERRORE\n",
    "file = open(\"ES_13.txt\",\"w\")\n",
    "\n",
    "file.write('Ciao da Lorenzo, come stai?\\n')\n",
    "file.write('Non stai bene?\\n')\n",
    "file.write('Peccato, potevamo andare a bere.')\n",
    "file.close()\n",
    "\n",
    "file = open(\"ES_13.txt\",\"r\")\n",
    "\n",
    "while True:\n",
    "    contenuto = file.readline()\n",
    "    if not contenuto:\n",
    "        break\n",
    "    print(contenuto, end = \"\")\n",
    "file.close()"
   ]
  },
  {
   "cell_type": "code",
   "execution_count": 99,
   "id": "cfad248e",
   "metadata": {},
   "outputs": [],
   "source": [
    "#14 Scrivere una funzione che divide due numeri e gestisce l'eccezione di divisione per zero.\n",
    "def divisione(num1, num2):\n",
    "    try:\n",
    "        ris = num1 / num2\n",
    "        return ris\n",
    "    except ZeroDivisionError:\n",
    "        print('Non divisibile per 0! Riprova.')"
   ]
  },
  {
   "cell_type": "code",
   "execution_count": 1,
   "id": "a5f763de",
   "metadata": {},
   "outputs": [
    {
     "data": {
      "text/plain": [
       "'\\nif listaNumeri:\\n    numMax = max(listaNumeri)\\n    print(listaNumeri)\\n    print(\"Il numero massimo è:\", numMax)\\nelse:\\n    print(\"Non hai inserito numeri validi.\")'"
      ]
     },
     "execution_count": 1,
     "metadata": {},
     "output_type": "execute_result"
    }
   ],
   "source": [
    "#15 Scrivere un programma che richiede all'utente d’inserire una lista di numeri interi e ne stampa il valore massimo. In caso d’inserimento di un valore non valido, il programma deve gestire l'eccezione e stampare un messaggio di errore.\n",
    "listaNumeri = []\n",
    "try:\n",
    "    for _ in range (1,6):\n",
    "        numeriU = int(input(\"Scrivi un numero per favore.\\n\"))\n",
    "        listaNumeri.append(numeriU)\n",
    "except ValueError:\n",
    "    print(\"Errore. Riprova ad inserire solo nuemri interi.\")\n",
    "\n",
    "'''\n",
    "if listaNumeri:\n",
    "    numMax = max(listaNumeri)\n",
    "    print(listaNumeri)\n",
    "    print(\"Il numero massimo è:\", numMax)\n",
    "else:\n",
    "    print(\"Non hai inserito numeri validi.\")'''"
   ]
  },
  {
   "cell_type": "code",
   "execution_count": 12,
   "id": "b4cf3660",
   "metadata": {},
   "outputs": [
    {
     "name": "stdout",
     "output_type": "stream",
     "text": [
      "Il risultato è: 0.16666666666666666\n"
     ]
    }
   ],
   "source": [
    "#16 Scrivere una funzione che calcoli il reciproco di un numero e che gestisca l'eccezione di divisione per zero usando ZeroDivisionError.\n",
    "numero = 6\n",
    "def calcoloReciproco(numero):\n",
    "    risultato = 1 / numero\n",
    "    return risultato\n",
    "\n",
    "try:\n",
    "    calcoloReciproco\n",
    "    print(\"Il risultato è:\", calcoloReciproco(numero))\n",
    "except ZeroDivisionError:\n",
    "    print(\"Errore. Riprova!\")\n"
   ]
  },
  {
   "cell_type": "code",
   "execution_count": null,
   "id": "567e756b",
   "metadata": {},
   "outputs": [],
   "source": [
    "#17 Scrivere un programma che crea un nuovo file di testo e che scriva una serie di righe in esso.\n",
    "file = open(\"ES_17.txt\",\"w\")\n",
    "\n",
    "file.write(\"Ciao\\n\")\n",
    "file.write(\"mi chiamo\\n\")\n",
    "file.write(\"Lorenzo\")\n",
    "file.close()\n"
   ]
  },
  {
   "cell_type": "code",
   "execution_count": 8,
   "id": "b9fec2fb",
   "metadata": {},
   "outputs": [
    {
     "name": "stdout",
     "output_type": "stream",
     "text": [
      "Ciao da Lorenzo, come stai?\n",
      "Non stai bene?\n",
      "Peccato, potevamo andare a bere."
     ]
    }
   ],
   "source": [
    "#18 Scrivere un programma che apre un file di testo esistente, legga il suo contenuto e ne stampi ogni riga.\n",
    "file = open(\"ES_13.txt\",\"r\")\n",
    "\n",
    "while True:\n",
    "    contenuto = file.readline()\n",
    "    if not contenuto:\n",
    "        break\n",
    "    print(contenuto, end = \"\")\n",
    "file.close()"
   ]
  },
  {
   "cell_type": "code",
   "execution_count": 31,
   "id": "bc9dbffd",
   "metadata": {},
   "outputs": [],
   "source": [
    "#19 Scrivere un programma che copia il contenuto di un file di testo in un altro file.\n",
    "file = open(\"ES_19.txt\",\"w\")\n",
    "\n",
    "fileCopia = open(\"ES_13.txt\",\"r\") \n",
    "\n",
    "while True:\n",
    "    contenuto = file.write(fileCopia.readline())\n",
    "    if not contenuto:\n",
    "        break\n",
    "    \n",
    "file.close()\n",
    "fileCopia.close()"
   ]
  },
  {
   "cell_type": "code",
   "execution_count": null,
   "id": "6521e6ef",
   "metadata": {},
   "outputs": [
    {
     "name": "stdout",
     "output_type": "stream",
     "text": [
      "La tua età in giorni sarebbe di 8540 giorni.\n",
      "La tua età espressa in mesi sarebbe di 711 mesi.\n",
      "La tua età è di 23 anni.\n",
      "Sei nato di mercoledì\n",
      "Oggi è mercoledì 23 aprile 2025\n"
     ]
    }
   ],
   "source": [
    "#20 Scrivere un programma che chiede all'utente d’inserire la propria data di nascita (nel formato GG-MM-ANNO) e calcoli l'età in giorni, mesi e anni. Il programma deve anche calcolare il giorno della settimana in cui l'utente è nato.\n",
    "from datetime import date, datetime, timedelta\n",
    "import locale\n",
    "locale.setlocale(locale.LC_TIME, \"it_IT\")\n",
    "\n",
    "dataU = input(\"Ciao! Quando sei nato? Per favore, usa questo formato: GG-MM-ANNO, GRAZIE!\\n\")\n",
    "oraLocal = datetime.now()\n",
    "\n",
    "try:\n",
    "    compleannoU = datetime.strptime(dataU, \"%d-%m-%Y\")\n",
    "    giorniRisultato = (oraLocal - compleannoU).days\n",
    "    print(\"La tua età in giorni sarebbe di\", giorniRisultato, \"giorni.\")\n",
    "    mesiRisultato = int(giorniRisultato / 12)\n",
    "    print(\"La tua età espressa in mesi sarebbe di\", mesiRisultato, \"mesi.\")\n",
    "    anniRisultato = int(giorniRisultato / 365)\n",
    "    print(\"La tua età è di\", anniRisultato, \"anni.\")\n",
    "    giornoSettimana = compleannoU.strftime(\"%A\")\n",
    "    print(\"Sei nato di\", giornoSettimana, \".\")\n",
    "except ValueError:\n",
    "    print(\"ERRORE! Riprova usando il formato indicato (GG-MM-ANNO), Grazie!\")\n",
    "\n",
    "print(\"Oggi è\", oraLocal.strftime(\"%A %d %B %Y\"))"
   ]
  },
  {
   "cell_type": "code",
   "execution_count": 107,
   "id": "4f5b31ca",
   "metadata": {},
   "outputs": [
    {
     "name": "stdout",
     "output_type": "stream",
     "text": [
      "Il numero inserito è 25, un numero dispari!\n"
     ]
    }
   ],
   "source": [
    "#28 Scrivere un listato che richieda all'utente d’inserire un numero intero, e di stampare su schermo \"Il numero inserito è pari\" se il numero è pari, \"Il numero inserito è dispari\" se il numero è dispari.\n",
    "numeroU = int(input(\"Inserisci un numero e ti dirò se è dispari o pari.\\n\"))\n",
    "\n",
    "try:\n",
    "    if numeroU % 2 == 0:\n",
    "        print(f\"Il numero inserito è {numeroU}, un numero pari!\")\n",
    "    else:\n",
    "        print(f\"Il numero inserito è {numeroU}, un numero dispari!\")\n",
    "except ValueError as ve:\n",
    "    print(ve)"
   ]
  },
  {
   "cell_type": "code",
   "execution_count": 112,
   "id": "9b849262",
   "metadata": {},
   "outputs": [
    {
     "name": "stdout",
     "output_type": "stream",
     "text": [
      "Il prodotto scontato viene 1.0 €\n"
     ]
    }
   ],
   "source": [
    "#29 Scrivere un programma che chieda all'utente d’inserire il prezzo di un prodotto e il tasso di sconto da applicare. Calcolarne poi il prezzo scontato e stamparlo su schermo.\n",
    "prodottoU = input(\"Quale prezzo vuoi applicare allo zaino?\")\n",
    "scontoU = input(\"Che sconto si merita questo zaino?\")\n",
    "\n",
    "prodotto = float(prodottoU)\n",
    "sconto = int(scontoU)\n",
    "\n",
    "def calcoloSconto():\n",
    "    calcolo = (prodotto * sconto) / 100\n",
    "    return calcolo\n",
    "\n",
    "prodScontato = prodotto - calcoloSconto()\n",
    "\n",
    "print(\"Il prodotto scontato viene\", prodScontato, \"€\")"
   ]
  },
  {
   "cell_type": "code",
   "execution_count": null,
   "id": "3f73f577",
   "metadata": {},
   "outputs": [],
   "source": [
    "#30 Scrivere un programma che richieda all'utente di inserire un numero intero e di verificare se è pari o dispari. Stampare un messaggio appropriato, a seconda del caso.\n",
    "#Uguale al numero 28."
   ]
  },
  {
   "cell_type": "markdown",
   "id": "374fa202",
   "metadata": {},
   "source": [
    "# Domande:\n",
    "21) Qual è la funzione utilizzata per aprire un file in Python?\n",
    "La funzione per aprire un file in Python è già presente nella libreria standard ed è - open().\n",
    "22) Qual è il metodo utilizzato per creare una nuova directory in Python?\n",
    "Per creare una nuova directory in Python, si deve utilizzare il metodo - os.mkdir('Prova').\n",
    "23) Come si legge un file di testo riga per riga in Python?\n",
    "Per leggere il contenuto di un file riga per riga si deve usare il metodo - readline().\n",
    "24) Qual è il metodo utilizzato per ottenere il percorso assoluto di un file?\n",
    "Per ottenere il percorso assuluto di un file si utilizza il metodo - os.path().\n",
    "25) Qual è il metodo utilizzato per scrivere su un file di testo in Python?\n",
    "Per scrivere su un file di testo si usa il metododo - write().\n",
    "26) Come si calcola la differenza tra due date utilizzando il modulo datetime?\n",
    "La differenza tra due data è possibile ricavarla tramite l'utilizzo del metodo - timedelta().\n",
    "27) Qual è il metodo utilizzato per ottenere il timestamp corrente in Python?\n",
    "Dopo aver importato datetime, possiamo usare il metodo - now(), per la data di oggi."
   ]
  }
 ],
 "metadata": {
  "kernelspec": {
   "display_name": "venv",
   "language": "python",
   "name": "python3"
  },
  "language_info": {
   "codemirror_mode": {
    "name": "ipython",
    "version": 3
   },
   "file_extension": ".py",
   "mimetype": "text/x-python",
   "name": "python",
   "nbconvert_exporter": "python",
   "pygments_lexer": "ipython3",
   "version": "3.13.3"
  }
 },
 "nbformat": 4,
 "nbformat_minor": 5
}
