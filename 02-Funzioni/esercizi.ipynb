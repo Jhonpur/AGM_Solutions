{
 "cells": [
  {
   "cell_type": "code",
   "execution_count": null,
   "id": "dfc4c475",
   "metadata": {},
   "outputs": [
    {
     "name": "stdout",
     "output_type": "stream",
     "text": [
      "L'area del cerchio misura 28.26 cm.\n"
     ]
    }
   ],
   "source": [
    "#1 Scrivere una funzione che prenda come input il raggio di un cerchio e restituisca l'area del cerchio. Utilizzare il valore π = 3.14.\n",
    "raggioU = float(input(\"Indicami quanto deve misurare il raggio del cerchio.\\n\"))\n",
    "PI = 3.14\n",
    "\n",
    "def areaCerchio(raggio):\n",
    "    calcolo = PI * pow(raggio,2)\n",
    "    return calcolo\n",
    "\n",
    "print(f\"L'area del cerchio misura {areaCerchio(raggioU)} cm.\")"
   ]
  },
  {
   "cell_type": "code",
   "execution_count": 2,
   "id": "3dd9ac85",
   "metadata": {},
   "outputs": [
    {
     "name": "stdout",
     "output_type": "stream",
     "text": [
      "20\n"
     ]
    }
   ],
   "source": [
    "#2 Scrivere una funzione che prenda come input una lista di numeri e restituisca la somma dei suoi elementi.\n",
    "lista_numeri = [5,5,5,5]\n",
    "\n",
    "somma = sum(lista_numeri)\n",
    "\n",
    "print(somma)"
   ]
  },
  {
   "cell_type": "code",
   "execution_count": null,
   "id": "f7783639",
   "metadata": {},
   "outputs": [
    {
     "name": "stdout",
     "output_type": "stream",
     "text": [
      "10\n"
     ]
    }
   ],
   "source": [
    "#3 Scrivere una funzione che prenda 2 argomenti e restituisca la loro somma.\n",
    "def sommaIn(num1,num2):\n",
    "    calcolo = num1 + num2\n",
    "    return calcolo\n",
    "\n",
    "print(sommaIn(5,5))"
   ]
  },
  {
   "cell_type": "code",
   "execution_count": 4,
   "id": "093b361d",
   "metadata": {},
   "outputs": [
    {
     "name": "stdout",
     "output_type": "stream",
     "text": [
      "16\n"
     ]
    }
   ],
   "source": [
    "#4 Definire una funzione che prenda un numero come parametro e restituisca il suo quadrato.\n",
    "def numAlQuadrato(num):\n",
    "    calcolo = pow(num,2)\n",
    "    return calcolo\n",
    "\n",
    "print(numAlQuadrato(4))"
   ]
  },
  {
   "cell_type": "code",
   "execution_count": 5,
   "id": "0e791933",
   "metadata": {},
   "outputs": [
    {
     "name": "stdout",
     "output_type": "stream",
     "text": [
      "15\n"
     ]
    }
   ],
   "source": [
    "#5 Scrivere una funzione che prenda in input una stringa e ne restituisca la lunghezza.\n",
    "parola = \"supercalifrgida\"\n",
    "\n",
    "def contatoreStringa(parola):\n",
    "    sillabe = len(parola)\n",
    "    return sillabe\n",
    "\n",
    "print(contatoreStringa(parola))"
   ]
  },
  {
   "cell_type": "code",
   "execution_count": 6,
   "id": "3952a5a5",
   "metadata": {},
   "outputs": [
    {
     "name": "stdout",
     "output_type": "stream",
     "text": [
      "['friscia', 'monello', 'pisda']\n"
     ]
    }
   ],
   "source": [
    "#6 Scrivere una funzione che prenda in input una lista di parole e ne restituisca una lista di queste in ordine alfabetico.\n",
    "lista_parole = [\"pisda\",\"friscia\",\"monello\"]\n",
    "\n",
    "def listaOrdinata(lista):\n",
    "    ordine_alfabetico = sorted(lista)\n",
    "    return ordine_alfabetico\n",
    "\n",
    "print(listaOrdinata(lista_parole))"
   ]
  },
  {
   "cell_type": "code",
   "execution_count": 11,
   "id": "fac2f0e5",
   "metadata": {},
   "outputs": [
    {
     "name": "stdout",
     "output_type": "stream",
     "text": [
      "[2, 4, 6, 8, 0, 8, 4, 2]\n"
     ]
    }
   ],
   "source": [
    "#7 Scrivere una funzione che prenda in input una lista di numeri e ne restituisca una di numeri pari.\n",
    "lista_di_numeri = [2,3,4,6,8,0,5,35,8,4,2,5,5]\n",
    "lista_numeri_pari = []\n",
    "\n",
    "for n in lista_di_numeri:\n",
    "    if n % 2 == 0:\n",
    "        lista_numeri_pari.append(n)\n",
    "\n",
    "print(lista_numeri_pari)"
   ]
  },
  {
   "cell_type": "code",
   "execution_count": null,
   "id": "f59a481f",
   "metadata": {},
   "outputs": [
    {
     "name": "stdout",
     "output_type": "stream",
     "text": [
      "8\n"
     ]
    }
   ],
   "source": [
    "#8 Scrivere una funzione lambda che prenda in input un intero e ne restituisca il suo doppio.\n",
    "numero = (lambda a: a * 2)(4)\n",
    "print(numero)"
   ]
  },
  {
   "cell_type": "code",
   "execution_count": 15,
   "id": "4260309a",
   "metadata": {},
   "outputs": [
    {
     "name": "stdout",
     "output_type": "stream",
     "text": [
      "LAZZARO\n"
     ]
    }
   ],
   "source": [
    "#9 Scrivere una funzione lambda che prenda in input una stringa e ne restituisca la stessa in maisucolo.\n",
    "stringa = \"lazzaro\"\n",
    "maiusc = (lambda a: stringa.upper())(stringa)\n",
    "\n",
    "print(maiusc)"
   ]
  },
  {
   "cell_type": "code",
   "execution_count": 9,
   "id": "43cb73f4",
   "metadata": {},
   "outputs": [
    {
     "name": "stdout",
     "output_type": "stream",
     "text": [
      "9\n"
     ]
    }
   ],
   "source": [
    "#10 Scrivere una funzione lambda che prenda in input 2 numeri e ne restituisca il loro prodotto.\n",
    "num1 = 3\n",
    "num2 = 3\n",
    "\n",
    "prodotto = (lambda a,b: a * b)(num1, num2)\n",
    "\n",
    "print(prodotto)"
   ]
  },
  {
   "cell_type": "code",
   "execution_count": 63,
   "id": "8e15ea19",
   "metadata": {},
   "outputs": [
    {
     "name": "stdout",
     "output_type": "stream",
     "text": [
      "Eseguendo il controllo...\n",
      "Il tuo numero è maggiore di zero!\n",
      "Il fattoriale di 4 è 24\n"
     ]
    }
   ],
   "source": [
    "#11 Scrivere una funzione che calcoli il fattoriale di un numero intero e applica un decoratore per controllare che il numero in input sia maggiore o uguale a 0.\n",
    "import math\n",
    "import time\n",
    "\n",
    "def controlloNum(funz):\n",
    "    def maggioMin(n:int):\n",
    "        print(\"Eseguendo il controllo...\")\n",
    "        time.sleep(1)\n",
    "        if n < 0:\n",
    "            return \"\\nERRORE! Il tuo numero è minore di zero!\"\n",
    "        else:\n",
    "            print(\"Il tuo numero è maggiore di zero!\")\n",
    "            return funz(n)\n",
    "    return maggioMin\n",
    "        \n",
    "\n",
    "@controlloNum\n",
    "def calcoloFattoriale(numero):\n",
    "    if numero == 0:\n",
    "        return 1\n",
    "    return math.factorial(numero)\n",
    "\n",
    "numero = int(input(\"Inserisci un numero\\n\"))\n",
    "\n",
    "print(f\"Il fattoriale di {numero} è {calcoloFattoriale(numero)}\")"
   ]
  },
  {
   "cell_type": "code",
   "execution_count": 47,
   "id": "3c45ba38",
   "metadata": {},
   "outputs": [
    {
     "name": "stdout",
     "output_type": "stream",
     "text": [
      "La somma dei numeri 3 e 3 convertita in float è: 6.0\n"
     ]
    }
   ],
   "source": [
    "#12 Scrivere una funzione che restituisca la somma di 2 numeri e applichi un decoratore per convertire i numeri in float.\n",
    "\n",
    "def convertFloat(funz):\n",
    "    def numFloat(num1,num2):\n",
    "        num1_float = float(num1)\n",
    "        num2_float = float(num2)\n",
    "        return funz(num1_float, num2_float)\n",
    "    return numFloat\n",
    "\n",
    "\n",
    "@convertFloat\n",
    "def sommaNum(num1,num2):\n",
    "    somma = num1 + num2\n",
    "    return somma\n",
    "\n",
    "print(f\"La somma dei numeri {num1} e {num2} convertita in float è: {sommaNum(num1,num2)}\")"
   ]
  },
  {
   "cell_type": "code",
   "execution_count": null,
   "id": "d2667836",
   "metadata": {},
   "outputs": [
    {
     "name": "stdout",
     "output_type": "stream",
     "text": [
      "Pre-Ciao\n"
     ]
    }
   ],
   "source": [
    "#13 Scrivere una funzione che restituisca una strigna e applichi un decoratore per aggiungere un prefisso alla stringa.\n",
    "stringa = \"Ciao\"\n",
    "\n",
    "def addPrefix(funz):\n",
    "    def wrapper(stringa):\n",
    "        return \"Pre-\" + funz(stringa)\n",
    "    return wrapper\n",
    "\n",
    "@addPrefix\n",
    "def strUt(stringa):\n",
    "    return stringa\n",
    "\n",
    "print(strUt(stringa))"
   ]
  },
  {
   "cell_type": "code",
   "execution_count": 66,
   "id": "1a4d5e20",
   "metadata": {},
   "outputs": [
    {
     "name": "stdout",
     "output_type": "stream",
     "text": [
      "0\n",
      "2\n",
      "4\n",
      "6\n"
     ]
    }
   ],
   "source": [
    "#14 Scrivere una funzione che applichi un callback ad ogni elemento di una lista.\n",
    "\n",
    "def somma(a, b):\n",
    "    return a + b\n",
    "\n",
    "def sommaLista(lista1, lista2, callback):\n",
    "    for i in range(len(lista1)):\n",
    "        print(callback(lista1[i], lista2[i]))\n",
    "\n",
    "sommaLista([i for i in range(4)], [j for j in range(4)], somma)\n"
   ]
  },
  {
   "cell_type": "code",
   "execution_count": 92,
   "id": "3dad2aa0",
   "metadata": {},
   "outputs": [
    {
     "name": "stdout",
     "output_type": "stream",
     "text": [
      "La tua lista [1, 2, 3, 4] ha la somma di: 10\n"
     ]
    }
   ],
   "source": [
    "#15 Scrivere una funzione che sommi gli elementi di una lista e applichi una funzione di callback al risultato.\n",
    "\n",
    "def sommaList(lista,callback):\n",
    "    somma = sum(lista)\n",
    "    callback (lista, somma)\n",
    "\n",
    "def controllaSe(lista, somma):\n",
    "        return print(f\"La tua lista {lista} ha la somma di: {somma}\")\n",
    "\n",
    "lista = [1,2,3,4]\n",
    "sommaList(lista, controllaSe)"
   ]
  },
  {
   "cell_type": "code",
   "execution_count": 96,
   "id": "a1684aba",
   "metadata": {},
   "outputs": [
    {
     "name": "stdout",
     "output_type": "stream",
     "text": [
      "312\n",
      "1234\n",
      "24\n",
      "34234\n"
     ]
    }
   ],
   "source": [
    "#16 Scirivere una funzione che applichi un callback ad ogni elemento di una lista e restituisca solo gli elementi per cui il callback restituisce true.\n",
    "\n",
    "def stampaMaggiore(lista, callback):\n",
    "    for n in lista:\n",
    "        if callback(n) == True:\n",
    "            print(n)\n",
    "\n",
    "def maggioreOMinore(n):\n",
    "    return True if n > 0 else False\n",
    "\n",
    "lista = [312,-12,1234,24,34234,-2342,-23,-1]\n",
    "stampaMaggiore(lista, maggioreOMinore)"
   ]
  },
  {
   "cell_type": "code",
   "execution_count": null,
   "id": "5f5afd2b",
   "metadata": {},
   "outputs": [
    {
     "name": "stdout",
     "output_type": "stream",
     "text": [
      "Elaborando i dati...\n",
      "\n",
      "Elaborando i dati...\n",
      "\n",
      "Elaborando i dati...\n",
      "\n",
      "Dati elaborati da https://www.python.org/\n",
      "\n",
      "Dati elaborati da https://jupyter.org/\n",
      "\n",
      "Dati elaborati da https://agmsolutions.net/\n",
      "\n"
     ]
    }
   ],
   "source": [
    "#17 Scrivere un programma che effettui richieste HTTP a più URL in contemporanea, utilizzando asyncio.gather().\n",
    "import asyncio\n",
    "\n",
    "urls = [\"https://www.python.org/\",\"https://jupyter.org/\",\"https://agmsolutions.net/\"]\n",
    "\n",
    "async def richiestaUrl(url):\n",
    "    print(\"Elaborando i dati...\\n\")\n",
    "    await asyncio.sleep(1)\n",
    "    print(F\"Dati elaborati da {url}\\n\")\n",
    "    #return f\"{url}\"\n",
    "\n",
    "async def richiestaElab():\n",
    "    richiesta = [asyncio.create_task(richiestaUrl(url)) for url in urls]\n",
    "    await asyncio.gather(*richiesta)\n",
    "\n",
    "await richiestaElab()"
   ]
  },
  {
   "cell_type": "code",
   "execution_count": 30,
   "id": "0684555d",
   "metadata": {},
   "outputs": [
    {
     "name": "stdout",
     "output_type": "stream",
     "text": [
      "Ciao da Lorenzo, come stai?\n",
      "Non stai bene?\n",
      "Peccato, potevamo andare a bere.Ciao\n",
      "mi chiamo\n",
      "Lorenzo"
     ]
    }
   ],
   "source": [
    "#18 Scrivere un programma che effettui la lettura di file in parallelo, sempre utilizzando asyncio.gather().\n",
    "import asyncio\n",
    "testo = open(\"../02-Espressioni/ES_13.txt\",\"r\")\n",
    "testo1 = open(\"../02-Espressioni/ES_17.txt\",\"r\")\n",
    "\n",
    "async def lettura(file):\n",
    "    while True:\n",
    "        contenuto = file.readline()\n",
    "        if not contenuto:\n",
    "            break\n",
    "        print(contenuto, end=\"\")\n",
    "    file.close()\n",
    "\n",
    "async def richiestaLettura():\n",
    "    richiesta = [asyncio.create_task(lettura(testo))]\n",
    "    richiesta2 = [asyncio.create_task(lettura(testo1))]\n",
    "    await asyncio.gather(*richiesta,*richiesta2)\n",
    "\n",
    "\n",
    "await richiestaLettura()"
   ]
  },
  {
   "cell_type": "code",
   "execution_count": 45,
   "id": "baa9eb36",
   "metadata": {},
   "outputs": [
    {
     "name": "stdout",
     "output_type": "stream",
     "text": [
      "Elaborazione dati in corso...\n",
      "Dati elaborati con successo da https://www.python.org/\n",
      "Risposta elaborata entro il tempo massimo!\n"
     ]
    }
   ],
   "source": [
    "#19 Scrivere un programma che effettui una richiesta HTTP e che attenda un tempo massimo di 5 secondi per ricevere la risposta utilizzando asyncio.wait_for().\n",
    "import asyncio\n",
    "URL = (\"https://www.python.org/\")\n",
    "async def richiestaHttp (url):\n",
    "    print(\"Elaborazione dati in corso...\")\n",
    "    await asyncio.sleep(4)\n",
    "    print(f\"Dati elaborati con successo da {url}\")\n",
    "    return (f\"{url}\")\n",
    "\n",
    "async def elabRichiesta():\n",
    "    try:\n",
    "        await asyncio.wait_for(richiestaHttp(URL), timeout=5)\n",
    "        print(\"Risposta elaborata entro il tempo massimo!\")\n",
    "    except asyncio.TimeoutError:\n",
    "        print(\"Il server non ha risposto in tempo\")\n",
    "        \n",
    "\n",
    "await elabRichiesta()"
   ]
  },
  {
   "cell_type": "code",
   "execution_count": 61,
   "id": "860bd877",
   "metadata": {},
   "outputs": [
    {
     "name": "stdout",
     "output_type": "stream",
     "text": [
      "Considerando il numero...\n",
      "Considerando il numero...\n",
      "Considerando il numero...\n",
      "Considerando il numero...\n",
      "Considerando il numero...\n",
      "Considerando il numero...\n",
      "Considerando il numero...\n",
      "Considerando il numero...\n",
      "Considerando il numero...\n",
      "Il numero in questione 234 è divisibile per 2\n",
      "Il numero in questione 123 non è divisibile per 2\n",
      "Il numero in questione 1235 non è divisibile per 2\n",
      "Il numero in questione 578 è divisibile per 2\n",
      "Il numero in questione 34 è divisibile per 2\n",
      "Il numero in questione 7859 non è divisibile per 2\n",
      "Il numero in questione 324 è divisibile per 2\n",
      "Il numero in questione 9686 è divisibile per 2\n",
      "Il numero in questione 10 è divisibile per 2\n"
     ]
    }
   ],
   "source": [
    "#20 Scrivere un programma che effettui l'elaborazione di una lista di elementi in parallelo, utilizzando asyncio.gather().\n",
    "import asyncio\n",
    "\n",
    "async def elaborazCalco(num):\n",
    "    print(\"Considerando il numero...\")\n",
    "    await asyncio.sleep(0.5)\n",
    "    print(f\"Il numero in questione {num} è divisibile per 2\") if num % 2 == 0 else print(f\"Il numero in questione {num} non è divisibile per 2\")\n",
    "\n",
    "async def calcoloPost():\n",
    "    lista = [234,123,1235,578,34,7859,324,9686,10]\n",
    "    task = [asyncio.create_task(elaborazCalco(num)) for num in lista]\n",
    "    await asyncio.gather(*task)\n",
    "\n",
    "await calcoloPost()"
   ]
  },
  {
   "cell_type": "code",
   "execution_count": 1,
   "id": "e082e1d6",
   "metadata": {},
   "outputs": [
    {
     "name": "stdout",
     "output_type": "stream",
     "text": [
      "Benvenuto a Indovina il Numero!\n",
      "Ho pensato ad un numero compreso tra 1 e 10, vediamoo se riesci ad indovinarlo!\n",
      "\n",
      "Inserisci numero:\n",
      "\n",
      "Niente da fare, ritenta.\n",
      "Niente da fare, ritenta.\n",
      "Niente da fare, ritenta.\n",
      "WOW! Hai indovinato.\n",
      "\n"
     ]
    }
   ],
   "source": [
    "#21 Scrivere un programma che effettui la generazione di numeri casuali in parallelo, utilizzando asyncio.create_task().\n",
    "import asyncio\n",
    "import random\n",
    "\n",
    "async def indovina():\n",
    "    numero = random.randint(1,10)\n",
    "    print(\"Ho pensato ad un numero compreso tra 1 e 10, vediamoo se riesci ad indovinarlo!\\n\")\n",
    "    while True:\n",
    "        pensa = await get_pensa()\n",
    "        if pensa == numero:\n",
    "            print(\"WOW! Hai indovinato.\\n\")\n",
    "            return\n",
    "        else:\n",
    "            print(\"Niente da fare, ritenta.\")\n",
    "\n",
    "async def get_pensa():\n",
    "    while True:\n",
    "        pensa = await asyncio.get_event_loop().run_in_executor(None, input, \"> \")\n",
    "        if not pensa.isdigit():\n",
    "            print(\"Inserisci numero:\\n\")\n",
    "        else:\n",
    "            return int(pensa)\n",
    "async def main():\n",
    "    print(\"Benvenuto a Indovina il Numero!\")\n",
    "    task = asyncio.create_task(indovina())\n",
    "    await task\n",
    "    \n",
    "await(main())\n"
   ]
  },
  {
   "cell_type": "code",
   "execution_count": 38,
   "id": "d1be8d4b",
   "metadata": {},
   "outputs": [
    {
     "name": "stdout",
     "output_type": "stream",
     "text": [
      "Messaggio ricevuto: dato 0\n",
      "Messaggio ricevuto: dato 1\n",
      "Messaggio ricevuto: dato 2\n",
      "Messaggio ricevuto: dato 3\n",
      "Messaggio ricevuto: dato 4\n"
     ]
    }
   ],
   "source": [
    "#22 Scrivere un programma che effettui la lettura di dati da una coda di messaggi in modo asincrono utilizzando asyncio.Queue().\n",
    "import asyncio\n",
    "import random\n",
    "\n",
    "async def coda(queue):\n",
    "    while True:\n",
    "        messaggio = await queue.get()\n",
    "        print(f\"Messaggio ricevuto: {messaggio}\")\n",
    "        await asyncio.sleep(1)\n",
    "        queue.task_done()\n",
    "\n",
    "# Crea 3 task di lettura dalla coda\n",
    "async def main():\n",
    "    queue = asyncio.Queue()\n",
    "    tasks = [asyncio.create_task(coda(queue)) for _ in range(3)]\n",
    "\n",
    "# Inserisce 10 messaggi nella coda\n",
    "    for i in range(5):\n",
    "        messaggio = f\"dato {i}\"\n",
    "        await queue.put(messaggio)\n",
    "        await asyncio.sleep(0.4)\n",
    "        \n",
    "#aspetta che tutti i messaggi vengano elaborati\n",
    "    await queue.join()\n",
    "\n",
    "    for task in tasks:\n",
    "        task.cancel()\n",
    "    await asyncio.gather(*tasks, return_exceptions=True)\n",
    "\n",
    "await main()\n"
   ]
  },
  {
   "cell_type": "markdown",
   "id": "577b1229",
   "metadata": {},
   "source": [
    "# Domande\n",
    "23) Qual è il valore di ritorno predefinito di una funzione?\n",
    "Il valore di ritorno predefinito è None.\n",
    "24) Qual è la differenza tra ua funzione e un metodo?\n",
    "La funzione è un blocco di codice definito in qualsiasi parte del listato, mentre il metodo viene gestito all'interno di una classe.\n",
    "25) Qual è il significato di un decoratore in Python?\n",
    "Il decoratore in python prende come parametro un' altra funzione e può aggiungere controlli o altre funzionalità ad esse in un secondo momento.\n",
    "26) Cosa fa il decoratore @staticmethod?\n",
    "Definisce un metodo come statico.\n",
    "27) Qual è il principale vantaggio di utilizzare asyncio?\n",
    "Il principale vantaggio è quella di eseguire parti di codice in momenti diversi.\n",
    "28) Come si definisce una funzione asincrona?\n",
    "Con il metodo async prima del def.\n",
    "29) Quale metodo viene utilizzato per eseguire una coroutine in asyncio?\n",
    "Si usa in questa maniera asyncio.run(funz_asincrona()).\n",
    "30) Qual è la differenza principale tra le funzioni await e yield from in asyncio?\n",
    "Await viene utilizzato per gestire l'asincronia del listato, aspetta il termine di una funzione per avviarne un'altra.\n",
    "Yield è utilizzato nei generatori e genera valori uno alla volta."
   ]
  }
 ],
 "metadata": {
  "kernelspec": {
   "display_name": "venv",
   "language": "python",
   "name": "python3"
  },
  "language_info": {
   "codemirror_mode": {
    "name": "ipython",
    "version": 3
   },
   "file_extension": ".py",
   "mimetype": "text/x-python",
   "name": "python",
   "nbconvert_exporter": "python",
   "pygments_lexer": "ipython3",
   "version": "3.13.3"
  }
 },
 "nbformat": 4,
 "nbformat_minor": 5
}
