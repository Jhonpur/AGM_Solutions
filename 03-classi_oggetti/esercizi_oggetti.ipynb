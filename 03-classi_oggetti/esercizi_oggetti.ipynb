{
 "cells": [
  {
   "cell_type": "code",
   "execution_count": 6,
   "id": "65b7f577",
   "metadata": {},
   "outputs": [
    {
     "data": {
      "text/plain": [
       "'paolo'"
      ]
     },
     "execution_count": 6,
     "metadata": {},
     "output_type": "execute_result"
    }
   ],
   "source": [
    "\"\"\"\n",
    "01 Creare una classe chiamata Persona che abbia un metodo set_nome e un metodo get_nome,\n",
    "rispettivamente per impostare e recuperare il nome della persona.\n",
    "Incapsulare l'attributo nome per garantire che non sia accessibile dall'esterno della classe.\"\"\"\n",
    "class Persona:\n",
    "    def __init__(self, nome):\n",
    "        self.nome = nome\n",
    "\n",
    "    def set_nome(self,nome):\n",
    "        self.nome = nome\n",
    "\n",
    "    def get_nome(self):\n",
    "        return self.nome\n",
    "\n",
    "p1 = Persona(\"gianfranco\")\n",
    "p1.get_nome()\n",
    "p1.set_nome(\"paolo\")\n",
    "p1.get_nome()"
   ]
  },
  {
   "cell_type": "code",
   "execution_count": 10,
   "id": "4ab93c74",
   "metadata": {},
   "outputs": [
    {
     "name": "stdout",
     "output_type": "stream",
     "text": [
      "Deposito di €600.0 effettuato con successo!\n",
      "\n",
      "ERRORE! Saldo insufficente!\n",
      "Il tuo saldo attuale: €600.0\n"
     ]
    }
   ],
   "source": [
    "\"\"\"02 Creare una classe ContoInBanca che incapsuli un attributo saldo e abbia metodi per depositare e\n",
    "prelevare denaro dal conto. Dovremmo anche assicurarci che il saldo non possa essere negativo.\"\"\"\n",
    "import time\n",
    "class ContoInBanca:\n",
    "    def __init__(self):\n",
    "        self.saldo = 0\n",
    "\n",
    "    def deposito(self):\n",
    "        deposit = float(input(\"Inserisci l'importo che vuoi depositare:\\n\"))\n",
    "        self.saldo += deposit\n",
    "        print(f\"Deposito di €{deposit} effettuato con successo!\")\n",
    "        \n",
    "    def preleva(self):\n",
    "        preliev = float(input(\"Inserisci l'importo che vuoi prelevare:\\n\"))\n",
    "        if self.saldo >= preliev:\n",
    "            self.saldo -= preliev\n",
    "            time.sleep(2)\n",
    "            print(f\"Prelievo di €{preliev} effettuato con successo!\")\n",
    "        else:\n",
    "            print(\"\\nERRORE! Saldo insufficente!\")\n",
    "\n",
    "    def mostra(self):\n",
    "        print(f\"Il tuo saldo attuale: €{self.saldo}\")\n",
    "\n",
    "bank = ContoInBanca()\n",
    "bank.deposito()\n",
    "bank.preleva()\n",
    "bank.mostra()"
   ]
  },
  {
   "cell_type": "code",
   "execution_count": 6,
   "id": "a21c363a",
   "metadata": {},
   "outputs": [
    {
     "name": "stdout",
     "output_type": "stream",
     "text": [
      "Accesso eseguito!\n"
     ]
    }
   ],
   "source": [
    "\"\"\"03 Creare una classe ControlloPassword che incapsuli una password e abbia un metodo per controllare\n",
    "se quella inserita sia corretta. Incapsulare l'attributo password per garantire che non sia\n",
    "accessibile dall'esterno della classe.\"\"\"\n",
    "class ControlloPassword:\n",
    "    def __init__(self,password=\"Def12!\"):\n",
    "        self.__password = password\n",
    "\n",
    "    def controlloP(self):\n",
    "        passU = input(str(\"Inserisci la password:\\n\"))\n",
    "        if passU == self.__password:\n",
    "            print(\"Accesso eseguito!\")\n",
    "        else:\n",
    "            print(\"Accesso negato, password errata!\")\n",
    "\n",
    "p1 = ControlloPassword()\n",
    "p1.controlloP()"
   ]
  },
  {
   "cell_type": "code",
   "execution_count": 35,
   "id": "dd7b4689",
   "metadata": {},
   "outputs": [
    {
     "data": {
      "text/plain": [
       "'Lorenzo ha ottenuto questi voti: [8, 6, 9, 10, 7, 7, 12]'"
      ]
     },
     "execution_count": 35,
     "metadata": {},
     "output_type": "execute_result"
    }
   ],
   "source": [
    "\"\"\"04 Creare una classe Studenti che incapsuli un attributo nome e un attributo voti corrispondente a\n",
    "una lista di essi. Inserire dei metodi per aggiungere e rimuovere voti dalla lista. Incapsulare gli\n",
    "attributi nome e voti per garantire che non siano accessibili dall'esterno della classe.\"\"\"\n",
    "class Studenti:\n",
    "    def __init__(self,nome,voti=[]):\n",
    "        self.__nome = nome\n",
    "        self.__voti = voti\n",
    "\n",
    "    def get_voto(self):\n",
    "        return f\"{self.__nome} ha ottenuto questi voti: {self.__voti}\"\n",
    "    \n",
    "    def set_voto(self,voto):\n",
    "        self.__voti.append(voto)\n",
    "\n",
    "    def rimuovi_voto(self,voto):\n",
    "        if voto in self.__voti:\n",
    "            self.__voti.remove(voto)\n",
    "            return self.__voti\n",
    "        else:\n",
    "            print(\"Errore, voto non trovato!\")\n",
    "            \n",
    "\n",
    "# votoU = print(int(\"Inserisci il voto da aggiungere:\\n\"))\n",
    "        \n",
    "    \n",
    "s1 = Studenti(\"Lorenzo\",[8,6,9,10,7,7])\n",
    "s1.get_voto()\n",
    "s1.set_voto(12)\n",
    "s1.get_voto()\n",
    "#s1.rimuovi_voto(11)"
   ]
  },
  {
   "cell_type": "code",
   "execution_count": 43,
   "id": "e83ccfd2",
   "metadata": {},
   "outputs": [
    {
     "name": "stdout",
     "output_type": "stream",
     "text": [
      "L'area del rettangolo è: 54\n",
      "\n",
      "Ilperimetro del rettangolo è: 30\n",
      "\n"
     ]
    }
   ],
   "source": [
    "\"\"\"05 Creare una classe Rettangolo che incapsuli due attributi: lunghezza e altezza. Aggiungere dei\n",
    "metodi per calcolare l'area e il perimetro del rettangolo. Incapsulare gli attributi larghezza e altezza\n",
    "per garantire che non siano accessibili dall'esterno della classe.\"\"\" \n",
    "class Rettangolo:\n",
    "    def __init__(self,lunghezza,altezza):\n",
    "        self.lunghezza = lunghezza\n",
    "        self.altezza = altezza\n",
    "\n",
    "    def calcoloArea(self):\n",
    "        area = self.lunghezza * self.altezza\n",
    "        return area\n",
    "\n",
    "    def calcoloPerim(self):\n",
    "        perim = (2*self.lunghezza) + (2*self.altezza)\n",
    "        return perim\n",
    "\n",
    "r1 = Rettangolo(6,9)\n",
    "print(f\"L'area del rettangolo è: {r1.calcoloArea()}\\n\")\n",
    "print(f\"Ilperimetro del rettangolo è: {r1.calcoloPerim()}\\n\")\n"
   ]
  },
  {
   "cell_type": "code",
   "execution_count": 60,
   "id": "753c6cfc",
   "metadata": {},
   "outputs": [
    {
     "name": "stdout",
     "output_type": "stream",
     "text": [
      "Lo stipendio di gigio è aumentato di: €100.0\n",
      "Lo stipendio finale ammonta a: €1100.0\n"
     ]
    }
   ],
   "source": [
    "\"\"\"06 Creare una classe Impiegati che incapsuli due attributi: nome e stipendio. Aggiungere un metodo\n",
    "per aumentare lo stipendio di un certo valore. Incapsulare gli attributi nome e stipendio per\n",
    "garantire che non siano accessibili dall'esterno della classe. Inoltre, aggiungere un metodo\n",
    "getStipendio che restituisca l'ammontare dello stipendio.\"\"\"\n",
    "class Impiegati:\n",
    "    def __init__(self,nome,stipendio):\n",
    "        self.__nome = nome\n",
    "        self.__stipendio = stipendio\n",
    "\n",
    "    def aumentaStipe(self,aumento):\n",
    "        aumento = (self.__stipendio * aumento) / 100\n",
    "        self.__stipendio += aumento\n",
    "        return aumento\n",
    "    \n",
    "    def getStipendio(self):\n",
    "        return self.__stipendio\n",
    "    \n",
    "    def getNome(self):\n",
    "        return self.__nome\n",
    "    \n",
    "i1 = Impiegati(\"gigio\",1000)\n",
    "print(f\"Lo stipendio di {i1.getNome()} è aumentato di: €{i1.aumentaStipe(10)}\")\n",
    "print(f\"Lo stipendio finale ammonta a: €{i1.getStipendio()}\")"
   ]
  },
  {
   "cell_type": "code",
   "execution_count": 70,
   "id": "57f2b872",
   "metadata": {},
   "outputs": [
    {
     "data": {
      "text/plain": [
       "'Marca: audi, Modello: a1, Anno: 2012'"
      ]
     },
     "execution_count": 70,
     "metadata": {},
     "output_type": "execute_result"
    }
   ],
   "source": [
    "\"\"\"07 Creare una classe chiamata Veicolo con gli attributi marca, modello e anno di produzione.\n",
    "Incapsulare gli attributi marca e modello per garantire che non siano accessibili dall'esterno della\n",
    "classe e creare dei metodi getter e setter per l'attributo anno di produzione. Inoltre, aggiungere un\n",
    "metodo per stampare le informazioni del veicolo.\"\"\"\n",
    "class Veicolo:\n",
    "    def __init__(self,marca,modello,anno):\n",
    "        self.__marca = marca\n",
    "        self.__modello = modello\n",
    "        self.__anno = anno\n",
    "\n",
    "    def getAnno(self):\n",
    "        return self.__anno\n",
    "\n",
    "    def setAnno(self,altro):\n",
    "        self.__anno = altro\n",
    "\n",
    "    def stampa(self):\n",
    "        return f\"Marca: {self.__marca}, Modello: {self.__modello}, Anno: {self.__anno}\"\n",
    "\n",
    "a1 = Veicolo(\"audi\",\"a1\",2011)\n",
    "a1.getAnno()\n",
    "a1.setAnno(2012)\n",
    "a1.getAnno()\n",
    "a1.stampa()"
   ]
  },
  {
   "cell_type": "code",
   "execution_count": null,
   "id": "f174ac5d",
   "metadata": {},
   "outputs": [
    {
     "name": "stdout",
     "output_type": "stream",
     "text": [
      "L'area del quadrato: 25\n",
      "Il perimetro del quadrato: 20\n",
      "\n",
      "L'area del rettangolo:20\n",
      "Il perimetro del Rettangolo: 18\n"
     ]
    }
   ],
   "source": [
    "\"\"\"08 Scrivere una classe Figura che abbia due metodi: area() e perimetro(). Creare due sottoclassi\n",
    "Quadrato e Cerchio, entrambe con i propri metodi area() e perimetro(). Usare il polimorfismo per\n",
    "calcolare l'area e il perimetro di una lista di figure contenente istanze di entrambe le sottoclassi.\"\"\"\n",
    "class Figura:\n",
    "    def __init__(self):\n",
    "        self\n",
    "\n",
    "    def area(self):\n",
    "        return\n",
    "    def perimetro(self):\n",
    "        return\n",
    "    \n",
    "class Quadrato(Figura):\n",
    "    def __init__(self,lato):\n",
    "        self.lato = lato\n",
    "\n",
    "    def area(self):\n",
    "        return self.lato * self.lato\n",
    "    \n",
    "    def perimetro(self):\n",
    "        return self.lato * 4\n",
    "    \n",
    "class Rettangolo(Figura):\n",
    "    def __init__(self,altezza,lunghezza):\n",
    "        self.altezza = altezza\n",
    "        self.lunghezza = lunghezza\n",
    "\n",
    "    def area(self):\n",
    "        return self.lunghezza * self.altezza\n",
    "    \n",
    "    def perimetro(self):\n",
    "        return (2*self.lunghezza) + (2*self.altezza)\n",
    "        \n",
    "q1 = Quadrato(5)\n",
    "print(f\"L'area del quadrato: {q1.area()}\")\n",
    "print(f\"Il perimetro del quadrato: {q1.perimetro()}\\n\")\n",
    "r1 = Rettangolo(4,5)\n",
    "print(f\"L'area del rettangolo:{r1.area()}\")\n",
    "print(f\"Il perimetro del Rettangolo: {r1.perimetro()}\")\n"
   ]
  },
  {
   "cell_type": "code",
   "execution_count": 147,
   "id": "1caf30d9",
   "metadata": {},
   "outputs": [
    {
     "name": "stdout",
     "output_type": "stream",
     "text": [
      "Il cane fa BAU\n"
     ]
    }
   ],
   "source": [
    "\"\"\"09 Scrivere una classe Animale con un metodo verso(). Creare due sottoclassi Gatto e Cane,\n",
    "entrambe con il proprio metodo verso(). Usare il polimorfismo per fare emettere a un'istanza di\n",
    "Animale un verso casuale dal Gatto o dal Cane.\"\"\"\n",
    "import random\n",
    "class Animale:\n",
    "    def __init__(self):\n",
    "        pass\n",
    "\n",
    "    def verso(self):\n",
    "        animale_casuale = random.choice([Gatto(), Cane()])\n",
    "        return animale_casuale.verso()\n",
    "    \n",
    "class Gatto(Animale):\n",
    "    def __init__(self):\n",
    "        super().__init__()\n",
    "\n",
    "    def verso(self):\n",
    "        print(\"Il gatto fa MIAO\")\n",
    "\n",
    "class Cane(Animale):\n",
    "    def __init__(self):\n",
    "        super().__init__()\n",
    "\n",
    "    def verso(self):\n",
    "        print(\"Il cane fa BAU\")\n",
    "\n",
    "a1 = Animale()\n",
    "a1.verso()"
   ]
  },
  {
   "cell_type": "code",
   "execution_count": 149,
   "id": "6dc4b18f",
   "metadata": {},
   "outputs": [
    {
     "name": "stdout",
     "output_type": "stream",
     "text": [
      "MIAO\n",
      "BAU\n"
     ]
    }
   ],
   "source": [
    "\"\"\"10 Creare una classe Animale che abbia un metodo parla e due sottoclassi, Cane e Gatto, che\n",
    "dovranno sovrascrivere il metodo parla con comportamenti diversi.\"\"\"\n",
    "class Animale:\n",
    "    def __init__(self):\n",
    "        pass\n",
    "\n",
    "    def parla(self):\n",
    "        return \"NULLA\"\n",
    "    \n",
    "class Cane(Animale):\n",
    "    def __init__(self):\n",
    "        super().__init__()\n",
    "\n",
    "    def parla(self):\n",
    "        return \"BAU\"\n",
    "    \n",
    "class Gatto(Animale):\n",
    "    def __init__(self):\n",
    "        super().__init__()\n",
    "\n",
    "    def parla(self):\n",
    "        return \"MIAO\"\n",
    "    \n",
    "animali = [Gatto(), Cane()]\n",
    "for a in animali:\n",
    "    print(a.parla())"
   ]
  },
  {
   "cell_type": "code",
   "execution_count": null,
   "id": "a3388639",
   "metadata": {},
   "outputs": [
    {
     "name": "stdout",
     "output_type": "stream",
     "text": [
      "[1, 4, 6, 32]\n",
      "{'saluto': 'ciao', 'numero': 2}\n"
     ]
    }
   ],
   "source": [
    "\"\"\"11 Creare una funzione che accetta un parametro di tipo Iterable e poi stampa ogni elemento su\n",
    "schermo.\"\"\"\n",
    "def stampa(i):\n",
    "    for e in i:\n",
    "        print(e)\n",
    "\n",
    "lista = [[1,4,6,32],\n",
    "         {\"saluto\": \"ciao\", \"numero\": 2}]\n",
    "\n",
    "stampa(lista)"
   ]
  },
  {
   "cell_type": "code",
   "execution_count": 150,
   "id": "abf7eff1",
   "metadata": {},
   "outputs": [
    {
     "name": "stdout",
     "output_type": "stream",
     "text": [
      "L'auto sfreccia a 110 KM/h\n",
      "In bici pedalo fino a 20 KM/h\n"
     ]
    }
   ],
   "source": [
    "\"\"\"12 Creare una classe Veicolo con un metodo muovi e due sottoclassi, Automobile e Bicicletta, che\n",
    "sovrascriveranno il metodo muovi con comportamenti diversi.\"\"\"\n",
    "class Veicolo:\n",
    "    def __init__(self):\n",
    "        pass\n",
    "\n",
    "    def muovi(self):\n",
    "        return \"Nulla\"\n",
    "    \n",
    "class Automobile(Veicolo):\n",
    "    def __init__(self):\n",
    "        super().__init__()\n",
    "\n",
    "    def muovi(self):\n",
    "        return \"L'auto sfreccia a 110 KM/h\"\n",
    "    \n",
    "class Bicicletta(Veicolo):\n",
    "    def __init__(self):\n",
    "        super().__init__()\n",
    "\n",
    "    def muovi(self):\n",
    "        return \"In bici pedalo fino a 20 KM/h\"\n",
    "    \n",
    "veicoli = [Automobile(), Bicicletta()]\n",
    "for v in veicoli:\n",
    "    print(v.muovi())"
   ]
  },
  {
   "cell_type": "code",
   "execution_count": 151,
   "id": "b24cede6",
   "metadata": {},
   "outputs": [
    {
     "name": "stdout",
     "output_type": "stream",
     "text": [
      "VAI UOMO!\n",
      "Ciao Donna.\n"
     ]
    }
   ],
   "source": [
    "\"\"\"13 Creare di una classe Persona con un metodo saluta e due sottoclassi, Uomo e Donna, che\n",
    "sovrascrivono il metodo saluta con comportamenti diversi.\"\"\"\n",
    "class Persona:\n",
    "    def __init__(self):\n",
    "        pass\n",
    "\n",
    "    def saluta(self):\n",
    "        return \"Nulla\"\n",
    "    \n",
    "class Uomo(Persona):\n",
    "    def __init__(self):\n",
    "        super().__init__()\n",
    "\n",
    "    def saluta(self):\n",
    "        return \"VAI UOMO!\"\n",
    "    \n",
    "class Donna(Persona):\n",
    "    def __init__(self):\n",
    "        super().__init__()\n",
    "\n",
    "    def saluta(self):\n",
    "        return \"Ciao Donna.\"\n",
    "    \n",
    "persone = [Uomo(),Donna()]\n",
    "for p in persone:\n",
    "    print(p.saluta())"
   ]
  },
  {
   "cell_type": "code",
   "execution_count": 154,
   "id": "a401d978",
   "metadata": {},
   "outputs": [
    {
     "name": "stdout",
     "output_type": "stream",
     "text": [
      "Ciao\n",
      "Sto studiando.\n"
     ]
    }
   ],
   "source": [
    "\"\"\"14 Creare una classe Persona con un metodo saluta che stampi Ciao. Creare poi una classe\n",
    "Studente che erediti da Persona, con un metodo studia che stampi Sto studiando. Infine, creare un\n",
    "oggetto di tipo Studente e chiamare i suoi metodi saluta e studia.\"\"\"\n",
    "class Persona:\n",
    "    def __init__(self):\n",
    "        pass\n",
    "    def saluta(self):\n",
    "        print(\"Ciao\")\n",
    "    \n",
    "class Studente(Persona):\n",
    "    def __init__(self):\n",
    "        super().__init__()\n",
    "    \n",
    "    def studia(self):\n",
    "        print(\"Sto studiando.\")\n",
    "    \n",
    "s1 = Studente()\n",
    "s1.saluta()\n",
    "s1.studia()    "
   ]
  },
  {
   "cell_type": "code",
   "execution_count": 168,
   "id": "5b387679",
   "metadata": {},
   "outputs": [
    {
     "name": "stdout",
     "output_type": "stream",
     "text": [
      "La velocità è aumentata di 10 KM/h\n",
      "La velocità è aumentata di 20 KM/h\n",
      "La velocità è aumentata di 30 KM/h\n",
      "La velocità è aumentata di 40 KM/h\n",
      "BEEEEEEEEEEEEEEEEEP\n"
     ]
    }
   ],
   "source": [
    "\"\"\"15 Creare una classe Veicolo con un attributo velocità e un metodo accelera che aumenti la velocità\n",
    "di 10 km/h. Creare poi una classe Auto che erediti dalla classe Veicolo e che abbia un attributo\n",
    "marca e un metodo suona_clacson che stampi Beep beep! a video. Infine, creare un oggetto di tipo\n",
    "Auto, accelerare di 20 km/h e chiamare il suo metodo suona_clacson.\"\"\"\n",
    "class Veicolo:\n",
    "    def __init__(self,velocità):\n",
    "        self.velocità = velocità\n",
    "\n",
    "    def accelera(self):\n",
    "        self.velocità += 10\n",
    "        print(f\"La velocità è aumentata di {self.velocità} KM/h\")\n",
    "    \n",
    "class Auto(Veicolo):\n",
    "    def __init__(self, velocità,marca):\n",
    "        super().__init__(velocità)\n",
    "        self.marca = marca\n",
    "    \n",
    "    def suona_clacson(self):\n",
    "        print(\"BEEEEEEEEEEEEEEEEEP\")\n",
    "\n",
    "a4 = Auto(0, \"BMW\")\n",
    "a4.accelera()\n",
    "a4.accelera()\n",
    "a4.accelera()\n",
    "a4.accelera()\n",
    "\n",
    "a4.suona_clacson()"
   ]
  },
  {
   "cell_type": "code",
   "execution_count": 169,
   "id": "8fb0034a",
   "metadata": {},
   "outputs": [
    {
     "name": "stdout",
     "output_type": "stream",
     "text": [
      "Mi muovo\n",
      "BAU BAU\n"
     ]
    }
   ],
   "source": [
    "\"\"\"16 Creare una classe Animale con un metodo muovi che stampa \"Mi muovo\". Creare poi una classe\n",
    "Cane che eredita dalla classe Animale e che ha un metodo abbaiare che mostri \"Bau bau!\" su\n",
    "schermo. Infine, creare un oggetto di tipo Cane e chiama i suoi metodi muovi e abbaiare.\"\"\"\n",
    "class Animale:\n",
    "    def __init__(self):\n",
    "        pass\n",
    "    def muovi(self):\n",
    "        print(\"Mi muovo\")\n",
    "\n",
    "class Cane(Animale):\n",
    "    def __init__(self):\n",
    "        super().__init__()\n",
    "\n",
    "    def abbaiare(self):\n",
    "        print(\"BAU BAU\")\n",
    "\n",
    "c1 = Cane()\n",
    "c1.muovi()\n",
    "c1.abbaiare()"
   ]
  },
  {
   "cell_type": "code",
   "execution_count": 170,
   "id": "d46fee05",
   "metadata": {},
   "outputs": [
    {
     "name": "stdout",
     "output_type": "stream",
     "text": [
      "Il cane sta correndo\n",
      "Il gatto sta saltando\n"
     ]
    }
   ],
   "source": [
    "\"\"\"17 Creare una classe Animale con un metodo muovi che stampa \"L'animale si sta muovendo\".\n",
    "Creare due sottoclassi di Animale, Cane e Gatto, che sovrascrivono il metodo muovi in modo che\n",
    "stampino rispettivamente \"Il cane sta correndo\" e \"Il gatto sta saltando\".\"\"\"\n",
    "class Animale:\n",
    "    def __init__(self):\n",
    "        pass\n",
    "    def muovi(self):\n",
    "        print(\"L'animale si sta muovendo\")\n",
    "\n",
    "class Cane(Animale):\n",
    "    def __init__(self):\n",
    "        super().__init__()\n",
    "\n",
    "    def muovi(self):\n",
    "        print(\"Il cane sta correndo\")\n",
    "    \n",
    "class Gatto(Animale):\n",
    "    def __init__(self):\n",
    "        super().__init__()\n",
    "\n",
    "    def muovi(self):\n",
    "        print(\"Il gatto sta saltando\")\n",
    "\n",
    "c4 = Cane()\n",
    "g4 = Gatto()\n",
    "c4.muovi()\n",
    "g4.muovi()"
   ]
  },
  {
   "cell_type": "code",
   "execution_count": 171,
   "id": "8ae6711a",
   "metadata": {},
   "outputs": [
    {
     "name": "stdout",
     "output_type": "stream",
     "text": [
      "L'auto si sta muovendo a 120 KM/h\n",
      "La Bicicletta si sta muovendo a 25 KM/h\n"
     ]
    }
   ],
   "source": [
    "\"\"\"18 Creare una classe Veicolo con un attributo velocita e un metodo muovi che stampa \"Il veicolo si\n",
    "sta muovendo a {velocita} km/h\". Creare due sottoclassi di Veicolo, Auto e Bicicletta, che\n",
    "sovrascrivono l'attributo velocita in modo che sia rispettivamente 120 km/h e 25 km/h, e\n",
    "sovrascrivono il metodo muovi in modo che stampino rispettivamente \"L'auto si sta muovendo a 120\n",
    "km/h\" e \"La bicicletta si sta muovendo a 25 km/h\".\"\"\"\n",
    "class Veicolo:\n",
    "    def __init__(self,velocità=0):\n",
    "        self.velocità = velocità\n",
    "\n",
    "    def munovi(self):\n",
    "        print(f\"Il veicolo si sta muovendo a {self.velocità}\")\n",
    "\n",
    "class Auto(Veicolo):\n",
    "    def __init__(self, velocità=120):\n",
    "        super().__init__(velocità)\n",
    "\n",
    "    def munovi(self):\n",
    "        print(f\"L'auto si sta muovendo a {self.velocità} KM/h\")\n",
    "\n",
    "class Bicicletta(Veicolo):\n",
    "    def __init__(self, velocità=25):\n",
    "        super().__init__(velocità)\n",
    "\n",
    "    def munovi(self):\n",
    "        print(f\"La Bicicletta si sta muovendo a {self.velocità} KM/h\")\n",
    "\n",
    "a6 = Auto()\n",
    "b4 = Bicicletta()\n",
    "a6.munovi()\n",
    "b4.munovi()"
   ]
  },
  {
   "cell_type": "code",
   "execution_count": 3,
   "id": "4bfe365d",
   "metadata": {},
   "outputs": [
    {
     "name": "stdout",
     "output_type": "stream",
     "text": [
      "16\n",
      "9.8596\n"
     ]
    }
   ],
   "source": [
    "\"\"\"19 Creare una classe Forma con un metodo area che restituisca la sua area. Creare due sottoclassi\n",
    "di Forma, Quadrato e Cerchio, che sovrascrivono il metodo area in modo che calcoli e restituisca\n",
    "l'area del quadrato e del cerchio.\"\"\"\n",
    "class Forma:\n",
    "    def __init__(self):\n",
    "        pass\n",
    "\n",
    "    def area(self,lato):\n",
    "        return lato * lato\n",
    "    \n",
    "class Quadrato(Forma):\n",
    "    def __init__(self,lato):\n",
    "        super().__init__()\n",
    "        self.lato = lato\n",
    "\n",
    "    def area(self):\n",
    "        print(self.lato * self.lato)\n",
    "    \n",
    "class Cerchio(Forma):\n",
    "    def __init__(self,raggio):\n",
    "        super().__init__()\n",
    "        self.raggio = raggio\n",
    "\n",
    "    def area(self):\n",
    "        print(self.raggio**2)\n",
    "    \n",
    "q1 = Quadrato(4)\n",
    "q1.area()\n",
    "c1 = Cerchio(3.14)\n",
    "c1.area()"
   ]
  },
  {
   "cell_type": "code",
   "execution_count": 6,
   "id": "6b366668",
   "metadata": {},
   "outputs": [
    {
     "name": "stdout",
     "output_type": "stream",
     "text": [
      "MIAO!\n",
      "BAU!\n",
      "Sono un pappagallo, non un cane! Parlo, non abbaio\n"
     ]
    }
   ],
   "source": [
    "\"\"\"20 Creare una classe Animale con un metodo verso che stampa \"Non so fare nessun verso\". Creare\n",
    "due sottoclassi di Animale, Gatto e Cane, per sovrascrivere il metodo verso in modo che stampi\n",
    "rispettivamente \"Miao!\" e \"Bau!\" quando chiamati. Creare una terza sottoclasse di Animale,\n",
    "Pappagallo, che estende la classe Cane e sovrascrive il metodo verso in modo che visualizzi sul\n",
    "nostro schermo \"Sono un pappagallo, non un cane! Parlo, non abbaio!\" quando viene chiamato.\"\"\"\n",
    "class Animale:\n",
    "    def __init__(self):\n",
    "        pass\n",
    "    def verso(self):\n",
    "        print(\"Non so fare nessun verso\")\n",
    "\n",
    "class Gatto(Animale):\n",
    "    def __init__(self):\n",
    "        super().__init__()\n",
    "    \n",
    "    def verso(self):\n",
    "        print(\"MIAO!\")\n",
    "\n",
    "class Cane(Animale):\n",
    "    def __init__(self):\n",
    "        super().__init__()\n",
    "\n",
    "    def verso(self):\n",
    "        print(\"BAU!\")\n",
    "\n",
    "class Pappagallo(Animale):\n",
    "    def __init__(self):\n",
    "        super().__init__()\n",
    "    \n",
    "    def verso(self):\n",
    "        print(\"Sono un pappagallo, non un cane! Parlo, non abbaio\")\n",
    "\n",
    "g6 = Gatto()\n",
    "g6.verso()\n",
    "c7 = Cane()\n",
    "c7.verso()\n",
    "p1 = Pappagallo()\n",
    "p1.verso()"
   ]
  },
  {
   "cell_type": "markdown",
   "id": "5af60dc2",
   "metadata": {},
   "source": [
    "# Domande\n",
    "21) Qual è lo scopo dell'incapsulamento?\n",
    "Lo scopo principale è quello di nascondere gli attributi di una classe, per migliorare la sicurezza dei dati.\n",
    "22) Qual è lo scopo del polimorfismo?\n",
    "Permette di sovrascrivere gli stessi metodi di diverse classi.\n",
    "23) Qual è la differenza tra l'ereditarietà singola e multipla?\n",
    "La differenza sta nella quantità di classi ereditate possibili.\n",
    "24) Cosa significa \"overriding\" in Python?\n",
    "Significa sovrascrivere un metodo di una classe ereditata.\n",
    "25) Cosa significa \"overloading\" in Python?\n",
    "Quando si hanno più metodi, tutti con lo stesso nome, ma funzionalità diverse a seconda della sottoclasse/superclasse.\n",
    "26) Cosa sono gli attributi di istanza?\n",
    "Sono i valori appertenenti a un solo Oggetto.\n",
    "27) Cosa sono gli attributi di classe?\n",
    "Sono i valori che vengono condivisi quando si ereditano le classi.\n",
    "28) Qual è lo scopo del metodo __init__ in Python?\n",
    "Viene chimato automaticamente dopo aver inizializzato una classe. Ha funzione di costruttore di classe.\n",
    "29) Qual è lo scopo del metodo __str__ in Python?\n",
    "Permette di mostrare a schermo i risultati dell'oggetto quando vengono stampati con print.\n",
    "30) Come si chiama il processo di creazione di una nuova classe a partire da una classe esistente?\n",
    "Il processo viene chiamato Ereditarietà."
   ]
  }
 ],
 "metadata": {
  "kernelspec": {
   "display_name": "Python 3",
   "language": "python",
   "name": "python3"
  },
  "language_info": {
   "codemirror_mode": {
    "name": "ipython",
    "version": 3
   },
   "file_extension": ".py",
   "mimetype": "text/x-python",
   "name": "python",
   "nbconvert_exporter": "python",
   "pygments_lexer": "ipython3",
   "version": "3.13.3"
  }
 },
 "nbformat": 4,
 "nbformat_minor": 5
}
