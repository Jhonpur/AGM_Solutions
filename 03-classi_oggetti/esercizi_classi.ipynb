{
 "cells": [
  {
   "cell_type": "code",
   "execution_count": null,
   "id": "3b4a2d0d",
   "metadata": {},
   "outputs": [
    {
     "name": "stdout",
     "output_type": "stream",
     "text": [
      "Nome: Lorenzo\n",
      "Età: 23\n"
     ]
    }
   ],
   "source": [
    "#01 Scrivere una classe Persona con gli attributi nome ed età, e un metodo mostra che restituisce una stringa contenente il nome e l'età della persona.\n",
    "class Persona:\n",
    "    def __init__(self,nome,età):\n",
    "        self.nome = nome\n",
    "        self.età = età\n",
    "\n",
    "    def mostra(self):\n",
    "        print(f\"Nome: {self.nome}\")\n",
    "        print(f\"Età: {self.età}\")\n",
    "\n",
    "persona1 = Persona(\"Lorenzo\",23)\n",
    "\n",
    "persona1.mostra()"
   ]
  },
  {
   "cell_type": "code",
   "execution_count": null,
   "id": "e78f801b",
   "metadata": {},
   "outputs": [
    {
     "data": {
      "text/plain": [
       "10"
      ]
     },
     "execution_count": 4,
     "metadata": {},
     "output_type": "execute_result"
    }
   ],
   "source": [
    "#02 Scrivere una classe Rettagolo con gli attributi lunghezza e larghezza, e i metodi area e perimeter che restituiscono rispettivamente l'area e il perimetro del rettangolo.\n",
    "class Rettangolo:\n",
    "    def __init__(self,lunghezza,larghezza):\n",
    "        self.lunghezza = lunghezza\n",
    "        self.larghezza = larghezza\n",
    "\n",
    "    def area(self):\n",
    "        return self.lunghezza * self.larghezza\n",
    "\n",
    "r1 = Rettangolo(5,2)   \n",
    "r1.area()"
   ]
  },
  {
   "cell_type": "code",
   "execution_count": null,
   "id": "d60e6134",
   "metadata": {},
   "outputs": [
    {
     "name": "stdout",
     "output_type": "stream",
     "text": [
      "Deposito di €102930.0 effettuato con successo!\n",
      "Prelievo di €10000.0 effettuato con successo!\n",
      "Il tuo saldo attuale: 92930.0\n"
     ]
    }
   ],
   "source": [
    "#03 Scrivere una classe Conto con l'attributo saldo e i metodi deposito e ritiro che aggiornano il saldo del conto in base all'importo depositato o prelevato.\n",
    "import time\n",
    "\n",
    "class Conto:\n",
    "    def __init__(self):\n",
    "        self.saldo = 0\n",
    "        print\n",
    "\n",
    "    def deposito(self):\n",
    "        deposit = float(input(\"Inserisci l'importo che vuoi depositare:\\n\"))\n",
    "        self.saldo += deposit\n",
    "        print(f\"Deposito di €{deposit} effettuato con successo!\")\n",
    "\n",
    "    def prelievo(self):\n",
    "        preliev = float(input(\"Inserisci l'importo che vuoi prelevare:\\n\"))\n",
    "        if self.saldo >= preliev:\n",
    "            self.saldo -= preliev\n",
    "            time.sleep(2)\n",
    "            print(f\"Prelievo di €{preliev} effettuato con successo!\")\n",
    "        else:\n",
    "            print(\"\\nERRORE! Saldo insufficente!\")\n",
    "\n",
    "    def mostra(self):\n",
    "        print(f\"Il tuo saldo attuale: €{self.saldo}\")\n",
    "        \n",
    "    \n",
    "bank = Conto()\n",
    "bank.deposito()\n",
    "bank.prelievo()\n",
    "bank.mostra()"
   ]
  },
  {
   "cell_type": "code",
   "execution_count": 13,
   "id": "855535ec",
   "metadata": {},
   "outputs": [
    {
     "name": "stdout",
     "output_type": "stream",
     "text": [
      "La macchina inserita è di colore arancione, devo dire che mi piace!\n",
      "Mmh...\n",
      "È una Murcielago, si vedono spesso in giro, bella.\n",
      "Poi è del 2011 quindi passabile!\n"
     ]
    }
   ],
   "source": [
    "#04 Scrivere una classe Auto con gli attributi colore, modello e anno, e un metodo descrizione che restituisce una stringa contenente la descrizione della macchina.\n",
    "import time\n",
    "class Auto:\n",
    "    def __init__(self,colore,modello,anno):\n",
    "        self.colore = colore\n",
    "        self.modello = modello\n",
    "        self.anno = anno\n",
    "\n",
    "    def descrizione(self):\n",
    "        print(f\"La macchina inserita è di colore {self.colore}, devo dire che mi piace!\")\n",
    "        time.sleep(0.8)\n",
    "        print(\"Mmh...\")\n",
    "        time.sleep(1)\n",
    "        print(f\"È una {self.modello}, si vedono spesso in giro, bella.\")\n",
    "        time.sleep(0.7)\n",
    "        print(f\"Poi è del {self.anno} quindi passabile!\")\n",
    "\n",
    "lambo = Auto(\"arancione\",\"Murcielago\",2011)\n",
    "lambo.descrizione()"
   ]
  },
  {
   "cell_type": "code",
   "execution_count": 22,
   "id": "1d2cc3be",
   "metadata": {},
   "outputs": [
    {
     "name": "stdout",
     "output_type": "stream",
     "text": [
      "Perro sta abbaiando, aiuto!\n",
      "Guarda sto lardoso di Perro, finalmente cammina!\n"
     ]
    }
   ],
   "source": [
    "#05 Scrivere una classe Cane con l'attributo nome e i metodi baubau e cammina che rispettivamente fanno abbaiare il cane e lo fanno camminare.\n",
    "class Cane:\n",
    "    def __init__(self,nome):\n",
    "        self.nome = nome\n",
    "\n",
    "    def abbaio(self):\n",
    "        print(f\"{self.nome} sta abbaiando, aiuto!\")\n",
    "            \n",
    "\n",
    "    def cammina(self):\n",
    "        print(f\"Guarda sto lardoso di {self.nome}, finalmente cammina!\")\n",
    "            \n",
    "\n",
    "c1 = Cane(\"Perro\")\n",
    "c1.abbaio()\n",
    "c1.cammina()\n",
    "\n"
   ]
  },
  {
   "cell_type": "code",
   "execution_count": 23,
   "id": "e80b2671",
   "metadata": {},
   "outputs": [
    {
     "data": {
      "text/plain": [
       "16"
      ]
     },
     "execution_count": 23,
     "metadata": {},
     "output_type": "execute_result"
    }
   ],
   "source": [
    "#06 Definire una classe Quadrato con gli attributi larghezza e altezza e un metodo area che calcoli l'area visualizzandola su schermo.\n",
    "class Quadrato:\n",
    "    def __init__(self,larghezza,altezza):\n",
    "        self.larghezza = larghezza\n",
    "        self.altezza = altezza\n",
    "\n",
    "    def area(self):\n",
    "        calcolo = self.larghezza * self.altezza\n",
    "        return calcolo\n",
    "    \n",
    "q1 = Quadrato(4,4)\n",
    "q1.area()"
   ]
  },
  {
   "cell_type": "code",
   "execution_count": 37,
   "id": "1823487f",
   "metadata": {},
   "outputs": [
    {
     "name": "stdout",
     "output_type": "stream",
     "text": [
      "Ti manca poco per i 60 False\n"
     ]
    }
   ],
   "source": [
    "#07 Definire una classe Persona con gli attributi nome ed età, e un metodo è_vecchio che restituisce True se la persona ha più di 60 anni, altrimenti False.\n",
    "class Persona:\n",
    "    def __init__(self,nome,età):\n",
    "        self.nome = nome\n",
    "        self.età = età\n",
    "\n",
    "    def è_vecchio(self):\n",
    "        vecchio = True\n",
    "        if self.età > 60:\n",
    "            print(f\"WoW! Hai raggiunto {self.età}\\n\",vecchio)\n",
    "        else:\n",
    "            vecchio = False\n",
    "            print(f\"Ti manca poco per i 60\",vecchio)\n",
    "\n",
    "        \n",
    "p1 = Persona(\"Paolo\",55)\n",
    "p1.è_vecchio()"
   ]
  },
  {
   "cell_type": "code",
   "execution_count": null,
   "id": "8a120c9f",
   "metadata": {},
   "outputs": [],
   "source": [
    "#08 Definire una classe ContoBancario con l'attributo saldo e due metodi deposita e preleva che aggiungono o sottraggono una certa quantità dal saldo del conto.\n",
    "#uguale al 3\n"
   ]
  },
  {
   "cell_type": "code",
   "execution_count": 44,
   "id": "2addc0ac",
   "metadata": {},
   "outputs": [
    {
     "data": {
      "text/plain": [
       "41"
      ]
     },
     "execution_count": 44,
     "metadata": {},
     "output_type": "execute_result"
    }
   ],
   "source": [
    "#09 Definire una classe Punto con gli attributi x e y e un metodo distanza_dall_origine che calcola la distanza del punto dall'origine (0, 0).\n",
    "class Punto:\n",
    "    def __init__(self,x,y):\n",
    "        self.x = x\n",
    "        self.y = y\n",
    "\n",
    "    def distanzaCentro(self):\n",
    "        calcolo = (self.x**2 + self.y**2)\n",
    "        return calcolo\n",
    "    \n",
    "p1 = Punto(4,5)\n",
    "p1.distanzaCentro()"
   ]
  },
  {
   "cell_type": "code",
   "execution_count": 59,
   "id": "30e9e618",
   "metadata": {},
   "outputs": [
    {
     "data": {
      "text/plain": [
       "False"
      ]
     },
     "execution_count": 59,
     "metadata": {},
     "output_type": "execute_result"
    }
   ],
   "source": [
    "#10 Definire una classe Auto con gli attributi marca, modello, anno e chilometraggio, e un metodo è_nuova che restituisce True se l'auto ha meno di 1000 km, altrimenti False.\n",
    "class Auto:\n",
    "    def __init__(self,marca,modello,anno,chilometraggio):\n",
    "        self.marca = marca\n",
    "        self.modello = modello\n",
    "        self.anno = anno\n",
    "        self.chilometraggio = chilometraggio\n",
    "\n",
    "    def è_nuova(self):\n",
    "        return self.chilometraggio < 1000\n",
    "\n",
    "a1 = Auto(\"Audi\",\"A4\",2021,9000)\n",
    "a1.è_nuova()"
   ]
  },
  {
   "cell_type": "code",
   "execution_count": 60,
   "id": "f51fb02f",
   "metadata": {},
   "outputs": [
    {
     "name": "stdout",
     "output_type": "stream",
     "text": [
      "lorenzo pour\n"
     ]
    }
   ],
   "source": [
    "#11 Creare una classe Persona con gli attributi nome e cognome. Definire il costruttore per inizializzare gli attributi con i valori passati come argomenti.\n",
    "class Persona:\n",
    "    def __init__(self,nome,cognome):\n",
    "        self.nome = nome\n",
    "        self.cognome = cognome\n",
    "\n",
    "p2 = Persona(\"lorenzo\",\"pour\")\n",
    "print(p2.nome, p2.cognome)"
   ]
  },
  {
   "cell_type": "code",
   "execution_count": 61,
   "id": "b9ee2d0b",
   "metadata": {},
   "outputs": [
    {
     "name": "stdout",
     "output_type": "stream",
     "text": [
      "pippo dobberman 12\n"
     ]
    }
   ],
   "source": [
    "#12 Creare una classe Cane con gli attributi nome, razza e età. Definire il costruttore per inizializzare gli attributi con i valori passati come argomenti.\n",
    "class Cane:\n",
    "    def __init__(self,nome,razza,età):\n",
    "        self.nome = nome\n",
    "        self.razza = razza\n",
    "        self.età = età\n",
    "\n",
    "c2 = Cane(\"pippo\",\"dobberman\",12)\n",
    "print(c2.nome, c2.razza, c2.età)"
   ]
  },
  {
   "cell_type": "code",
   "execution_count": 62,
   "id": "297e3fc1",
   "metadata": {},
   "outputs": [
    {
     "name": "stdout",
     "output_type": "stream",
     "text": [
      "Punto(3, 4)\n",
      "Punto(0, 0)\n",
      "Punto(5, 0)\n"
     ]
    }
   ],
   "source": [
    "#13 Creare una classe Punto con gli attributi x e y. Definire il costruttore per inizializzare gli attributi con i valori passati come argomenti, con valori predefiniti di zero se gli argomenti non vengono passati.\n",
    "class Punto:\n",
    "    def __init__(self, x=0, y=0):\n",
    "        \"\"\"\n",
    "        Costruttore della classe Punto.\n",
    "        \n",
    "        Parametri:\n",
    "        x (float): La coordinata x del punto (default: 0)\n",
    "        y (float): La coordinata y del punto (default: 0)\n",
    "        \"\"\"\n",
    "        self.x = x\n",
    "        self.y = y\n",
    "    \n",
    "    def __str__(self):\n",
    "        \"\"\"\n",
    "        Restituisce una rappresentazione testuale del punto.\n",
    "        \"\"\"\n",
    "        return f\"Punto({self.x}, {self.y})\"\n",
    "\n",
    "\n",
    "# Esempio di utilizzo della classe Punto\n",
    "if __name__ == \"__main__\":\n",
    "    # Creazione di un punto con valori specifici\n",
    "    p1 = Punto(3, 4)\n",
    "    print(p1)  # Output: Punto(3, 4)\n",
    "    \n",
    "    # Creazione di un punto con valori predefiniti\n",
    "    p2 = Punto()\n",
    "    print(p2)  # Output: Punto(0, 0)\n",
    "    \n",
    "    # Creazione di un punto specificando solo x\n",
    "    p3 = Punto(5)\n",
    "    print(p3)  # Output: Punto(5, 0)\n"
   ]
  },
  {
   "cell_type": "code",
   "execution_count": null,
   "id": "f5a9928c",
   "metadata": {},
   "outputs": [
    {
     "name": "stdout",
     "output_type": "stream",
     "text": [
      "Il frutto in questione è arancia\n",
      "Il frutto in questione è sconosciuto\n"
     ]
    }
   ],
   "source": [
    "#14 Creare una classe Frutto con l'attributo nome. Definire il costruttore per inizializzare l'attributo con il valore passato come argomento, con valore predefinito di sconosciuto se l'argomento non viene passato.\n",
    "class Frutto:\n",
    "    def __init__(self,nome=\"sconosciuto\"):\n",
    "        self.nome = nome\n",
    "\n",
    "    def __str__(self):\n",
    "        return f\"Il frutto in questione è {self.nome}\"\n",
    "    \n",
    "f1 = Frutto(\"arancia\")\n",
    "f2 = Frutto()\n",
    "print(f1)\n",
    "print(f2)"
   ]
  },
  {
   "cell_type": "code",
   "execution_count": null,
   "id": "ff1baa27",
   "metadata": {},
   "outputs": [
    {
     "name": "stdout",
     "output_type": "stream",
     "text": [
      "Libro: 'Il Signore degli Anelli' di Tolkien, 1954\n",
      "Libro: 'potter' di 2011, 0\n",
      "Libro: 'rowling' di 2000, 0\n",
      "Libro: 'Harry Potter' di Rowling, 1997\n"
     ]
    }
   ],
   "source": [
    "#15 Crea una classe Libro con gli attributi titolo, autore e anno. Definire il costruttore per inizializzare gli attributi con i valori passati come argomenti, con valori predefiniti di stringhe vuote e zero se gli argomenti non vengono passati.\n",
    "#da risolvere\n",
    "class Libro:\n",
    "    def __init__(self,titolo=\"\",autore=\"\",anno=0):\n",
    "        self.titolo = titolo\n",
    "        self.autore = autore\n",
    "        self.anno = anno\n",
    "        \n",
    "    def __str__(self):\n",
    "        return f\"Libro: '{self.titolo}' di {self.autore}, {self.anno}\"\n",
    "    \n",
    "l1 = Libro(\"Il Signore degli Anelli\", \"Tolkien\", 1954)\n",
    "l2 = Libro(\"potter\",2011)\n",
    "l3 = Libro(\"rowling\",2000)\n",
    "print(l1)\n",
    "print(l2)\n",
    "print(l3)\n",
    "l4 = Libro(autore=\"Rowling\", titolo=\"Harry Potter\", anno=1997)\n",
    "print(l4)"
   ]
  },
  {
   "cell_type": "code",
   "execution_count": 30,
   "id": "cb3a78f4",
   "metadata": {},
   "outputs": [
    {
     "name": "stdout",
     "output_type": "stream",
     "text": [
      "55 + 142 = 197\n"
     ]
    }
   ],
   "source": [
    "#16 Creare una classe NumeroComplesso con gli attributi parte_reale e parte_immaginaria. Definire il metodo magico add per sommare due numeri complessi.\n",
    "class NumeroComplesso:\n",
    "    def __init__(self,parte_reale,parte_immaginaria):\n",
    "        self.parte_reale = parte_reale\n",
    "        self.parte_immaginaria = parte_immaginaria\n",
    "\n",
    "    def __add__(self,other):\n",
    "        return  NumeroComplesso(self.parte_reale + other.parte_reale, self.parte_immaginaria + other.parte_immaginaria)\n",
    "    \n",
    "    def __str__(self):\n",
    "        somma = self.parte_reale + self.parte_immaginaria\n",
    "        return f\"{self.parte_reale} + {self.parte_immaginaria} = {somma}\"\n",
    "    \n",
    "nc1 = NumeroComplesso(23,86)\n",
    "nc2 = NumeroComplesso(32,56)\n",
    "nc3 = nc1.__add__(nc2)\n",
    "\n",
    "print(nc3)"
   ]
  },
  {
   "cell_type": "code",
   "execution_count": 42,
   "id": "f1a7ded6",
   "metadata": {},
   "outputs": [
    {
     "name": "stdout",
     "output_type": "stream",
     "text": [
      "x,y\n"
     ]
    }
   ],
   "source": [
    "#17 Creare una classe Punto con gli attributi x e y. Definire il metodo magico str per rappresentare l'oggetto come una stringa \"x,y\".\n",
    "class Punto:\n",
    "    def __init__(self, x, y):\n",
    "        self.x = x\n",
    "        self.y = y\n",
    "\n",
    "    def __str__(self):\n",
    "        return f\"{self.x},{self.y}\"\n",
    "    \n",
    "p = Punto(\"x\",\"y\")\n",
    "\n",
    "print(p)\n"
   ]
  },
  {
   "cell_type": "code",
   "execution_count": 45,
   "id": "78fdb57f",
   "metadata": {},
   "outputs": [
    {
     "name": "stdout",
     "output_type": "stream",
     "text": [
      "I prodotti sono identici!\n"
     ]
    }
   ],
   "source": [
    "#18 Creare una classe Prodotto con gli attributi nome e prezzo. Definire il metodo magico eq per confrontare due prodotti in base al nome e al prezzo.\n",
    "class Prodotto:\n",
    "    def __init__(self,nome,prezzo):\n",
    "        self.nome = nome\n",
    "        self.prezzo = prezzo\n",
    "\n",
    "    def __eq__(self, other):\n",
    "        return self.nome == other.nome and self.prezzo == other.prezzo\n",
    "    \n",
    "p1 = Prodotto(\"penna\",1.5)\n",
    "p2 = Prodotto(\"matita\",0.60)\n",
    "p3= Prodotto(\"penna\",1.5)\n",
    "if p1 == p3:\n",
    "    print(\"I prodotti sono identici!\")\n",
    "else:\n",
    "    print(\"Questi 2 prodotti sono diversi\")"
   ]
  },
  {
   "cell_type": "code",
   "execution_count": 51,
   "id": "7a84a83d",
   "metadata": {},
   "outputs": [
    {
     "name": "stdout",
     "output_type": "stream",
     "text": [
      "5\n",
      "7\n"
     ]
    }
   ],
   "source": [
    "#19 Creare una classe Cane con l'attributo nome. Definire il metodo magico len per restituire la lunghezza del nome del cane.\n",
    "class Cane:\n",
    "    def __init__(self,nome):\n",
    "        self.nome = nome\n",
    "\n",
    "    def __len__(self):\n",
    "        return len(self.nome)\n",
    "    \n",
    "c = Cane(\"pongo\")\n",
    "c1 = Cane(\"castoro\")\n",
    "print(len(c))\n",
    "print(len(c1))\n",
    "\n"
   ]
  },
  {
   "cell_type": "code",
   "execution_count": 60,
   "id": "704ba7bd",
   "metadata": {},
   "outputs": [
    {
     "name": "stdout",
     "output_type": "stream",
     "text": [
      "5\n"
     ]
    }
   ],
   "source": [
    "#20 Creare una classe ListaIntelligente con l'attributo lista. Definire il metodo magico getitem per accedere agli elementi della lista tramite l'indice.\n",
    "class ListaIntelligente:\n",
    "    def __init__(self,lista):\n",
    "        self.lista = lista\n",
    "\n",
    "    def __getitem__(self,indice):\n",
    "        return self.lista[indice]\n",
    "    def __str__(self):\n",
    "        return str(self.lista)\n",
    "    \n",
    "listaaa = ListaIntelligente([1,2,4,5,6,7,8])\n",
    "print(listaaa[3])\n"
   ]
  },
  {
   "cell_type": "markdown",
   "id": "4c0fca86",
   "metadata": {},
   "source": [
    "# Domande\n",
    "21) Qual è la differenza tra un metodo di classe e un metodo di istanza?\n",
    "I metodi di classe possono essere utilizzati anche senza aver creato un oggetto dalla classe, mentre la controparte fa riferimento agli attributi dell'oggetto.\n",
    "22) Come si può impedire la modifica di un attributo in una classe?\n",
    "Possiamo utilizzare il decoratore @property per rendere impossibile la modifica degli attributi.\n",
    "23) Cosa significa il termine \"ereditarietà\" nella programmazione ad oggetti?\n",
    "L'ereditarietà permette di riutilizzare il codice già scritto in precedenza.\n",
    "24) Come si definisce una classe che eredita da una classe base in Python?\n",
    "Dopo aver creato la sottoclasse in questo modo: -- class ProvaSottoclasse(Prova): si utilizza il metodo super() per ereditare gli attributi la classe base.\n",
    "25) Qual è il metodo magico per rappresentare una classe come una stringa?\n",
    "Il metodo usato è --__str__(self):--\n",
    "26) Come si definisce il costruttore di una classe in Python?\n",
    "Il costruttore di una classe viene definito così: --def __init__(self,attributi,...):--\n",
    "27) Qual è il decoratore utilizzato per creare una proprietà in una classe?\n",
    "Per creare una proprietà utilizzeremo @property, di solito segue il metodo setter.\n",
    "28) Cosa significa il termine \"incapsulamento\" nella programmazione ad oggetti?\n",
    "Il principio di incapsulamento permette di accedere agli argomenti della classe, solo ai metodi della classe stessa\n",
    "29) Qual è il metodo magico utilizzato per eseguire operazioni aritmetiche tra oggetti di una classe?\n",
    "Il metodo magico che si utilizza per operazioni aritmetiche varia a seconda dell'operazione, per la somma è __add__, mentre __pow__ si può utilizzare per le potenze.\n",
    "30) Come si definisce un metodo di classe in Python?\n",
    "All'interno della classe, dopo la definiszione del costruttore, la sintassi sarà così: --def metodo(self):--"
   ]
  }
 ],
 "metadata": {
  "kernelspec": {
   "display_name": "Python 3",
   "language": "python",
   "name": "python3"
  },
  "language_info": {
   "codemirror_mode": {
    "name": "ipython",
    "version": 3
   },
   "file_extension": ".py",
   "mimetype": "text/x-python",
   "name": "python",
   "nbconvert_exporter": "python",
   "pygments_lexer": "ipython3",
   "version": "3.13.3"
  }
 },
 "nbformat": 4,
 "nbformat_minor": 5
}
