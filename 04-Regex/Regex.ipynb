{
 "cells": [
  {
   "cell_type": "code",
   "execution_count": null,
   "id": "c8f96dba",
   "metadata": {},
   "outputs": [
    {
     "name": "stdout",
     "output_type": "stream",
     "text": [
      "['Ciao', 'come', 'Carmen']\n"
     ]
    }
   ],
   "source": [
    "\"\"\"01 Trovare tutte le parole che iniziano con \"c\" in nella stringa --Ciao come sta Carmen? Lei sta bene.--\"\"\"\n",
    "import re\n",
    "\n",
    "testo = \"Ciao come sta Carmen? Lei sta bene.\"\n",
    "pattern = r'\\b[cC]\\w*'\n",
    "\n",
    "parole_con_c = re.findall(pattern, testo)\n",
    "print(parole_con_c)\n"
   ]
  },
  {
   "cell_type": "code",
   "execution_count": null,
   "id": "f757686e",
   "metadata": {},
   "outputs": [
    {
     "name": "stdout",
     "output_type": "stream",
     "text": [
      "['mario.rossi@email.it']\n"
     ]
    }
   ],
   "source": [
    "\"\"\"02 Trovare tutte le email presenti nella stringa --Il mio indirizzo email è mario.rossi@email.it.--\"\"\"\n",
    "import re\n",
    "\n",
    "indirizzo_email = \"Il mio indirizzo email è mario.rossi@email.it.\"\n",
    "pattern = r'[\\w.-]+@[\\w.-]+\\.[a-zA-Z]{2,4}'\n",
    "\n",
    "email_trovata = re.findall(pattern, indirizzo_email)\n",
    "print(email_trovata)\n"
   ]
  },
  {
   "cell_type": "code",
   "execution_count": null,
   "id": "5b28f8d9",
   "metadata": {},
   "outputs": [
    {
     "name": "stdout",
     "output_type": "stream",
     "text": [
      "['mia', 'miei']\n"
     ]
    }
   ],
   "source": [
    "\"\"\"03 Trovare tutte le parole che contengono due vocali consecutive nella stringa --La mia mamma è andata al mare con i miei amici.--\"\"\"\n",
    "import re\n",
    "\n",
    "stringa = \"La mia mamma è andata al mare con i miei amici.\"\n",
    "pattern = r'\\w*[aeiou]{2}'\n",
    "\n",
    "voccali = re.findall(pattern, stringa)\n",
    "print(voccali)"
   ]
  },
  {
   "cell_type": "code",
   "execution_count": null,
   "id": "1fb73589",
   "metadata": {},
   "outputs": [
    {
     "name": "stdout",
     "output_type": "stream",
     "text": [
      "['sono', 'ma', 'preferisco']\n"
     ]
    }
   ],
   "source": [
    "\"\"\"04 Trovare tutte le parole che terminano con a oppure o nella stringa --Le mele sono buone ma preferisco le pere.--\"\"\"\n",
    "import re\n",
    "\n",
    "stringa = \"Le mele sono buone ma preferisco le pere.\"\n",
    "pattern = r'\\b\\w*[ao]\\b'\n",
    "\n",
    "lettera_finale = re.findall(pattern, stringa)\n",
    "print(lettera_finale)"
   ]
  },
  {
   "cell_type": "code",
   "execution_count": null,
   "id": "901efafc",
   "metadata": {},
   "outputs": [
    {
     "name": "stdout",
     "output_type": "stream",
     "text": [
      "['Il', 'Sole']\n"
     ]
    }
   ],
   "source": [
    "\"\"\"05 Trovare le parole con iniziale maiuscola nella stringa --Il Sole è una stella di rara bellezza.--\"\"\"\n",
    "import re\n",
    "stringa = \"Il Sole è una stella di rara bellezza.\"\n",
    "pattern = r'\\b[A-Z][a-z]*\\b'\n",
    "\n",
    "iniziale_maius = re.findall(pattern, stringa)\n",
    "print(iniziale_maius)"
   ]
  },
  {
   "cell_type": "code",
   "execution_count": 215,
   "id": "696f16df",
   "metadata": {},
   "outputs": [
    {
     "name": "stdout",
     "output_type": "stream",
     "text": [
      "['La', 'mela', 'è', 'buona', 'ma', 'preferisco', 'le', 'pere']\n"
     ]
    }
   ],
   "source": [
    "\"\"\"06 Trovare tutte le parole che non iniziano con una vocale nella stringa --La mela è buona ma preferisco le pere.--\"\"\"\n",
    "import re\n",
    "stringa = \"La mela è buona ma preferisco le pere.\"\n",
    "pattern = r'\\b[^aeiouAEIOU\\s\\W]\\w*\\b'\n",
    "\n",
    "iniziali_consonanti = re.findall(pattern, stringa)\n",
    "print(iniziali_consonanti)"
   ]
  },
  {
   "cell_type": "code",
   "execution_count": 235,
   "id": "c23da163",
   "metadata": {},
   "outputs": [
    {
     "name": "stdout",
     "output_type": "stream",
     "text": [
      "Lx mxx cxsx è grxndx x xccxglxxntx cxn lx lxttxrx x.\n"
     ]
    }
   ],
   "source": [
    "\"\"\"07 Sostituire tutte le vocali presenti nella stringa --La mia casa è grande e accogliente con la lettera x.--\"\"\"\n",
    "import re\n",
    "stringa = \"La mia casa è grande e accogliente con la lettera x.\"\n",
    "pattern = r'[aeiouAEIOU]'\n",
    "\n",
    "vocali_sost = re.sub(pattern, \"x\", stringa)\n",
    "print(vocali_sost)"
   ]
  },
  {
   "cell_type": "code",
   "execution_count": null,
   "id": "d6f1e08a",
   "metadata": {},
   "outputs": [
    {
     "name": "stdout",
     "output_type": "stream",
     "text": [
      "[]\n"
     ]
    }
   ],
   "source": [
    "\"\"\"08 Trovare le parole che contengono are nella stringa --Gli studenti stanno studiando per gli esami.--\"\"\"\n",
    "import re\n",
    "stringa = \"Gli studenti stanno studiando per gli esami, al mare.\"\n",
    "pattern = r'\\w*are\\w*'\n",
    "\n",
    "parole_Are = re.findall(pattern, stringa)\n",
    "print(parole_Are)"
   ]
  },
  {
   "cell_type": "code",
   "execution_count": 306,
   "id": "deab4e30",
   "metadata": {},
   "outputs": [
    {
     "name": "stdout",
     "output_type": "stream",
     "text": [
      "['Ciao', 'Lorenzo']\n"
     ]
    }
   ],
   "source": [
    "\"\"\"09 Scrivere un listato che accetti una stringa di input e verifichi se inizia con una lettera maiuscola seguita da una o più lettere minuscole.\"\"\"\n",
    "import re\n",
    "stringaU = input(str(\"Inserisci una frase:\\n\"))\n",
    "pattern = r'\\b[A-Z][a-z]+\\b'\n",
    "\n",
    "controllo_inziale = re.findall(pattern,stringaU)\n",
    "print(controllo_inziale)"
   ]
  },
  {
   "cell_type": "code",
   "execution_count": 308,
   "id": "4356c708",
   "metadata": {},
   "outputs": [
    {
     "name": "stdout",
     "output_type": "stream",
     "text": [
      "['9']\n"
     ]
    }
   ],
   "source": [
    "\"\"\"10 Scrivere un listato che verifichi se una stringa di input contiene almeno una cifra.\"\"\"\n",
    "import re\n",
    "stringaU = input(str(\"Inserisci una frase:\\n\"))\n",
    "pattern = r'\\b[0-9]\\b'\n",
    "\n",
    "controllo_numero = re.findall(pattern,stringaU)\n",
    "print(controllo_numero)"
   ]
  },
  {
   "cell_type": "code",
   "execution_count": null,
   "id": "df731980",
   "metadata": {},
   "outputs": [
    {
     "name": "stdout",
     "output_type": "stream",
     "text": [
      "['otto']\n"
     ]
    }
   ],
   "source": [
    "\"\"\"11 Scrivere un listato che verifichi se una stringa di input è una parola palindroma.\"\"\"\n",
    "import re\n",
    "stringaU = input(\"Inserisci una parola e verificherò se è palindroma:\\n\")\n",
    "pattern = r'\\b\\w+\\b'\n",
    "\n",
    "controllo_pali = re.findall(pattern, stringaU)\n",
    "parole_pali = [p for p in controllo_pali if p.lower() == p[::-1].lower()]\n",
    "\n",
    "print(parole_pali)\n"
   ]
  },
  {
   "cell_type": "code",
   "execution_count": 320,
   "id": "1aad61b9",
   "metadata": {},
   "outputs": [
    {
     "name": "stdout",
     "output_type": "stream",
     "text": [
      "['cmo']\n"
     ]
    }
   ],
   "source": [
    "\"\"\"12 Anche uno che verifichi se una stringa di input è composta solo da caratteri alfabetici minuscoli.\"\"\"\n",
    "import re\n",
    "stringaU = input(str(\"Inserisci una frase:\\n\"))\n",
    "pattern = r'\\b[a-z]+\\b'\n",
    "\n",
    "controllo_inziale = re.findall(pattern,stringaU)\n",
    "print(controllo_inziale)"
   ]
  },
  {
   "cell_type": "code",
   "execution_count": 333,
   "id": "bab9e328",
   "metadata": {},
   "outputs": [
    {
     "name": "stdout",
     "output_type": "stream",
     "text": [
      "ciao\n"
     ]
    }
   ],
   "source": [
    "\"\"\"13 Verificare se una stringa corrisponde a un pattern utilizzando re.match().\"\"\"\n",
    "import re\n",
    "stringa = \"ciao come stai\"\n",
    "pattern = r'\\b[cC]\\w*'\n",
    "\n",
    "corrisponde = re.match(pattern, stringa)\n",
    "print(corrisponde.group())"
   ]
  },
  {
   "cell_type": "code",
   "execution_count": 1,
   "id": "fdf1396c",
   "metadata": {},
   "outputs": [
    {
     "name": "stdout",
     "output_type": "stream",
     "text": [
      "SI_NARRA_CHE_LEONE_IL_CANE_FIFONE\n"
     ]
    }
   ],
   "source": [
    "\"\"\"14 Sostituire tutte le occorrenze di un pattern in una stringa utilizzando re.sub().\"\"\"\n",
    "import re\n",
    "stringa = \"SI NARRA CHE LEONE IL CANE FIFONE\"\n",
    "pattern = r'\\s'\n",
    "\n",
    "sostituzione = re.sub(pattern, \"_\", stringa)\n",
    "print(sostituzione)"
   ]
  },
  {
   "cell_type": "code",
   "execution_count": 45,
   "id": "50e28ab4",
   "metadata": {},
   "outputs": [
    {
     "name": "stdout",
     "output_type": "stream",
     "text": [
      "Pattern trovato: ci\n"
     ]
    }
   ],
   "source": [
    "\"\"\"15 Verificare se una stringa contiene un pattern utilizzando re.search().\"\"\"\n",
    "import re\n",
    "stringa = \"perchè non ci sono parole che iniziano per cane\"\n",
    "pattern = r'\\b[cC]\\w*\\b'\n",
    "\n",
    "verifica_pattern = re.search(pattern, stringa)\n",
    "print(\"Pattern trovato:\", verifica_pattern.group())\n",
    "\n"
   ]
  },
  {
   "cell_type": "code",
   "execution_count": 2,
   "id": "c9ed0d7f",
   "metadata": {},
   "outputs": [
    {
     "name": "stdout",
     "output_type": "stream",
     "text": [
      "['prima lista', 'seconda lista']\n"
     ]
    }
   ],
   "source": [
    "\"\"\"16 Dividere una stringa in una lista utilizzando re.split().\"\"\"\n",
    "import re\n",
    "stringa = \"prima lista, seconda lista\"\n",
    "pattern = r',\\s*'\n",
    "\n",
    "divisione = re.split(pattern, stringa)\n",
    "print(divisione)"
   ]
  },
  {
   "cell_type": "code",
   "execution_count": 49,
   "id": "2b11132a",
   "metadata": {},
   "outputs": [
    {
     "name": "stdout",
     "output_type": "stream",
     "text": [
      "La parola corrisponde: sssssssssssssss\n"
     ]
    }
   ],
   "source": [
    "\"\"\"17 Verificare se una stringa corrisponde esattamente a un pattern utilizzando re.fullmatch().\"\"\"\n",
    "import re\n",
    "stringa = \"sssssssssssssss\"\n",
    "pattern = r'\\b[sS]\\w*\\b'\n",
    "\n",
    "corrisponde = re.fullmatch(pattern,stringa)\n",
    "print(\"La parola corrisponde:\",corrisponde.group())"
   ]
  },
  {
   "cell_type": "code",
   "execution_count": 72,
   "id": "39182502",
   "metadata": {},
   "outputs": [
    {
     "name": "stdout",
     "output_type": "stream",
     "text": [
      "Le parole tra apici sono: 'si'\n",
      "Alla posizione: 10 - 14\n",
      "Le parole tra apici sono: 'no'\n",
      "Alla posizione: 26 - 30\n"
     ]
    }
   ],
   "source": [
    "\"\"\"18 Trovare tutte le corrispondenze di un pattern utilizzando re.finditer().\"\"\"\n",
    "import re\n",
    "stringa = \"simpatico 'si', simpatico 'no', non interessa\"\n",
    "pattern = r\"'\\w+'\"\n",
    "\n",
    "corrisponde_tutto = re.finditer(pattern, stringa)\n",
    "for match in corrisponde_tutto:\n",
    "    print(f\"Le parole tra apici sono: {match.group()}\\nAlla posizione: {match.start()} - {match.end()}\")"
   ]
  },
  {
   "cell_type": "code",
   "execution_count": 102,
   "id": "435c2174",
   "metadata": {},
   "outputs": [
    {
     "name": "stdout",
     "output_type": "stream",
     "text": [
      "'ciao'\n"
     ]
    }
   ],
   "source": [
    "\"\"\"19 Scrivere un listato che esce se una stringa non corrisponde a un pattern, usando re.match().\"\"\"\n",
    "import re\n",
    "stringa = \"'ciao', non ci sono apici qui.\"\n",
    "pattern = r\"'\\w+'\"\n",
    "\n",
    "verifica_corrisponde = re.match(pattern, stringa)\n",
    "print(f\"{verifica_corrisponde.group()}\")"
   ]
  },
  {
   "cell_type": "code",
   "execution_count": 114,
   "id": "70554821",
   "metadata": {},
   "outputs": [
    {
     "name": "stdout",
     "output_type": "stream",
     "text": [
      "['loREnZo']\n"
     ]
    }
   ],
   "source": [
    "\"\"\"20 Verificare se una stringa corrisponde a un pattern, ignorando la differenza tra maiuscole e minuscole con re.IGNORECASE.\"\"\"\n",
    "import re\n",
    "stringa = \"Ciao, SonO loREnZo il MagniFico\"\n",
    "pattern = r'\\bl\\w*'\n",
    "\n",
    "verifica_corrisponde = re.findall(pattern, stringa, re.IGNORECASE)\n",
    "print(verifica_corrisponde)"
   ]
  },
  {
   "cell_type": "code",
   "execution_count": 120,
   "id": "b71cbe84",
   "metadata": {},
   "outputs": [
    {
     "name": "stdout",
     "output_type": "stream",
     "text": [
      "Il nuovo testo è:\n",
      "Questo è un testo con una parola cica, ma possiamo cambiarla con una buona.\n"
     ]
    }
   ],
   "source": [
    "\"\"\"30 Correggere il listato in modo che l'utente possa inserire una parola cattiva e una parola buona. Il\n",
    "programma deve creare un oggetto regex che cerchi la parola cattiva nel testo, ignorando maiuscole\n",
    "e minuscole, e la sostituisca con la parola buona\"\"\"\n",
    "import re\n",
    "text = \"Questo è un testo con una parola cattiva, ma possiamo cambiarla con una buona.\"\n",
    "cattiva = input(str(\"Inserisci la parola che vuoi cambiare: \"))\n",
    "buona = input(str(\"Inserisci la parola che subentrerà: \"))\n",
    "\n",
    "patt = re.compile((re.escape(cattiva)), re.IGNORECASE)\n",
    "nuovo_testo = patt.sub(buona, text)\n",
    "print(\"Il nuovo testo è:\\n{}\".format(nuovo_testo))"
   ]
  },
  {
   "cell_type": "markdown",
   "id": "c342132b",
   "metadata": {},
   "source": [
    "# Domande\n",
    "21) Qual è il metodo da utilizzare se si vuole cercare una corrispondenza all'inizio della stringa?\n",
    "Il metodo da utilizzare è --match()--.\n",
    "22) Qual è il metodo da utilizzare se si vuole cercare una corrispondenza esatta con l'intera stringa?\n",
    "Il metodo da utilizzare è --fullmatch()--.\n",
    "23) Quale metodo utilizzare per sostituire tutte le occorrenze della regex con un'altra stringa?\n",
    "Il metodo da utilizzare è --re.sub()--.\n",
    "24) Qual è l'opzione da utilizzare per impostare la ricerca dot-all?\n",
    "Il metodo dot-all si imposta così --re.DOTALL-- oppure --re.S--.\n",
    "25) Qual è l'opzione da utilizzare per impostare l'uso del flag UNICODE?\n",
    "Fa in modo che l'espressione regolare utilizzi il formato Unicode.\n",
    "26) Quale metodo utilizzare per trovare tutte le corrispondenze della regex in una stringa?\n",
    "Il metodo da utilizzare è --findall()--.\n",
    "27) Cosa fa il metodo re.escape()?\n",
    "Ritorna una versione del pattern con tutti i caratteri non alfanumerici \"escapati\" con un backslash, in modo da renderli letterali.\n",
    "28) Cosa fa il metodo re.purge()?\n",
    "Svuota la cache degli oggetti pattern.\n",
    "29) Qual è l'opzione da utilizzare per impostare la ricerca multilinea?\n",
    "L'opzione da utilizzare è --re.MULTILINE-- OPPURE --re.M--.\n"
   ]
  }
 ],
 "metadata": {
  "kernelspec": {
   "display_name": "Python 3",
   "language": "python",
   "name": "python3"
  },
  "language_info": {
   "codemirror_mode": {
    "name": "ipython",
    "version": 3
   },
   "file_extension": ".py",
   "mimetype": "text/x-python",
   "name": "python",
   "nbconvert_exporter": "python",
   "pygments_lexer": "ipython3",
   "version": "3.13.3"
  }
 },
 "nbformat": 4,
 "nbformat_minor": 5
}
