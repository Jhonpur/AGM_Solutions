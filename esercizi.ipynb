{
 "cells": [
  {
   "cell_type": "code",
   "execution_count": 1,
   "id": "a2a09b23",
   "metadata": {},
   "outputs": [
    {
     "name": "stdout",
     "output_type": "stream",
     "text": [
      "1\n",
      "2\n",
      "3\n",
      "4\n",
      "5\n",
      "6\n",
      "7\n",
      "8\n",
      "9\n",
      "10\n"
     ]
    }
   ],
   "source": [
    "#1 Completare il listato che visualizza i numeri da 1 a 10.\n",
    "for i in range(1,11):\n",
    "    print(i)"
   ]
  },
  {
   "cell_type": "code",
   "execution_count": 2,
   "id": "b73d426b",
   "metadata": {},
   "outputs": [
    {
     "name": "stdout",
     "output_type": "stream",
     "text": [
      "<class 'int'>\n"
     ]
    }
   ],
   "source": [
    "#2 Dichiarare una variabile x e assegnarle il valore 10. Verificare il tipo di dato di x utilizzando l’istruzione apposita.\n",
    "x = 10\n",
    "print(type(x))"
   ]
  },
  {
   "cell_type": "code",
   "execution_count": 3,
   "id": "93db02c1",
   "metadata": {},
   "outputs": [
    {
     "name": "stdout",
     "output_type": "stream",
     "text": [
      "55\n"
     ]
    }
   ],
   "source": [
    "#3 Scrivere un programma che sommi i numeri da 1 a 10 (1+2+3+4+5...).\n",
    "x=0\n",
    "for i in range(1,11):\n",
    "    x += i\n",
    "print(x)"
   ]
  },
  {
   "cell_type": "code",
   "execution_count": 4,
   "id": "4915b374",
   "metadata": {},
   "outputs": [
    {
     "name": "stdout",
     "output_type": "stream",
     "text": [
      "1\n",
      "Questo numero è dispari!\n",
      "2\n",
      "Questo numero è pari!\n",
      "3\n",
      "Questo numero è dispari!\n",
      "4\n",
      "Questo numero è pari!\n",
      "5\n",
      "Questo numero è dispari!\n",
      "6\n",
      "Questo numero è pari!\n",
      "7\n",
      "Questo numero è dispari!\n",
      "8\n",
      "Questo numero è pari!\n",
      "9\n",
      "Questo numero è dispari!\n",
      "10\n",
      "Questo numero è pari!\n",
      "11\n",
      "Questo numero è dispari!\n",
      "12\n",
      "Questo numero è pari!\n",
      "13\n",
      "Questo numero è dispari!\n",
      "14\n",
      "Questo numero è pari!\n",
      "15\n",
      "Questo numero è dispari!\n",
      "16\n",
      "Questo numero è pari!\n",
      "17\n",
      "Questo numero è dispari!\n",
      "18\n",
      "Questo numero è pari!\n",
      "19\n",
      "Questo numero è dispari!\n",
      "20\n",
      "Questo numero è pari!\n"
     ]
    }
   ],
   "source": [
    "#4 Scrivere un programma che distingua se un numero è pari o dispari.\n",
    "numeri = [1,2,3,4,5,6,7,8,9,10,11,12,13,14,15,16,17,18,19,20]\n",
    "\n",
    "for i in numeri:\n",
    "    print(i)\n",
    "    if i / 2 in numeri:\n",
    "        print(\"Questo numero è pari!\")\n",
    "    else:\n",
    "        print(\"Questo numero è dispari!\")"
   ]
  },
  {
   "cell_type": "code",
   "execution_count": null,
   "id": "4f6f3ff2",
   "metadata": {},
   "outputs": [
    {
     "name": "stdout",
     "output_type": "stream",
     "text": [
      "La somma dei tuoi voti è: 51\n",
      "La media dei tuoi voti è: 7.285714285714286\n"
     ]
    }
   ],
   "source": [
    "#5 Scrivere un listato che calcoli la media dei voti di un esame.\n",
    "voti = [5,9,9,3,10,8,7]\n",
    "\n",
    "somma = sum(voti)\n",
    "media = somma / len(voti)\n",
    "\n",
    "print(\"La somma dei tuoi voti è:\", somma)\n",
    "print(\"La media dei tuoi voti è:\", media)"
   ]
  },
  {
   "cell_type": "code",
   "execution_count": null,
   "id": "c9e2c57b",
   "metadata": {},
   "outputs": [
    {
     "name": "stdout",
     "output_type": "stream",
     "text": [
      "[1, 4, 6, 9, 11, 16, 21]\n"
     ]
    }
   ],
   "source": [
    "#6 Scrivere un listato che verifichi se una lista è ordinata in ordine crescente.\n",
    "numeri = [1,4,9,6,21,11,16]\n",
    "\n",
    "numeri_ordinati = sorted(numeri)\n",
    "print(numeri_ordinati)"
   ]
  },
  {
   "cell_type": "code",
   "execution_count": null,
   "id": "5075cb43",
   "metadata": {},
   "outputs": [
    {
     "name": "stdout",
     "output_type": "stream",
     "text": [
      "La somma dei 2 valori è: 30\n"
     ]
    }
   ],
   "source": [
    "#7 Scrivere un programma che assegna il valore 10 ad una variabile x e il valore 20 ad una variabile y, quindi calcola la somma di x e y e la visualizzi a video.\n",
    "x = 0\n",
    "y = 0\n",
    "\n",
    "if x == 0:\n",
    "    x = 10 \n",
    "if y == 0:\n",
    "    y = 20\n",
    "\n",
    "somma = x + y\n",
    "print(\"La somma dei 2 valori è:\", somma)"
   ]
  },
  {
   "cell_type": "code",
   "execution_count": 106,
   "id": "97b8ccde",
   "metadata": {},
   "outputs": [
    {
     "name": "stdout",
     "output_type": "stream",
     "text": [
      "L'area del quadrato equivale a: 5041\n"
     ]
    }
   ],
   "source": [
    "#8 Scrivere un programma che calcoli l'area di un quadrato dato il valore del lato.\n",
    "lato = 71\n",
    "\n",
    "area_quadrato = lato*lato\n",
    "\n",
    "print(\"L'area del quadrato equivale a:\", area_quadrato)"
   ]
  },
  {
   "cell_type": "code",
   "execution_count": 110,
   "id": "dc3e25fb",
   "metadata": {},
   "outputs": [
    {
     "name": "stdout",
     "output_type": "stream",
     "text": [
      "Ci sono 25 gradi Celsius e 77 gradi Fahrenait.\n"
     ]
    }
   ],
   "source": [
    "#9 Scrivere un programma che converta i gradi Celsius in gradi Fahrenheit. Utilizzare una costante per rappresentare il fattore di conversione.\n",
    "gradi_cel = 25\n",
    "\n",
    "CONVERSIONE = int((gradi_cel * 1.8) + 32)\n",
    "\n",
    "gradi_fahr = CONVERSIONE\n",
    "\n",
    "print(\"Ci sono 25 gradi Celsius e\", CONVERSIONE, \"gradi Fahrenait.\")"
   ]
  },
  {
   "cell_type": "code",
   "execution_count": null,
   "id": "dde049cd",
   "metadata": {},
   "outputs": [
    {
     "name": "stdout",
     "output_type": "stream",
     "text": [
      "L'area del rettangolo è: 50\n"
     ]
    }
   ],
   "source": [
    "#10 Scrivere un programma che calcoli l'area di un rettangolo dati la base e l'altezza. Assegnare i valori della base e dell’altezza a delle variabili.\n",
    "base = 5\n",
    "altezza = 10\n",
    "\n",
    "area = base * altezza\n",
    "\n",
    "print(\"L'area del rettangolo è:\", area)"
   ]
  },
  {
   "cell_type": "code",
   "execution_count": null,
   "id": "1ccded88",
   "metadata": {},
   "outputs": [
    {
     "name": "stdout",
     "output_type": "stream",
     "text": [
      "La somma dei numeri pari all'interno della lista [1, 2, 3, 4] è: 6\n"
     ]
    }
   ],
   "source": [
    "#11 Scrivere una funzione che prenda in input una lista di numeri interi e restituisca la somma dei numeri pari.\n",
    "\n",
    "def somma(numeri = [1,2,3,4]):\n",
    "    totale = 0\n",
    "\n",
    "    for n in numeri:\n",
    "        if n % 2 == 0:\n",
    "            totale += n\n",
    "    return totale\n",
    "\n",
    "numeri = [1,2,3,4]\n",
    "print(\"La somma dei numeri pari all'interno della lista\", numeri, 'è:',somma())"
   ]
  },
  {
   "cell_type": "code",
   "execution_count": 118,
   "id": "060e8a48",
   "metadata": {},
   "outputs": [
    {
     "name": "stdout",
     "output_type": "stream",
     "text": [
      "La stringa - ciao - al contrario si legge: oaic\n"
     ]
    }
   ],
   "source": [
    "#12 Scrivere una funzione che prenda in input una stringa e la restituisca con le lettere in ordine invertito.\n",
    "stringa = \"ciao\"\n",
    "\n",
    "def Inversione():\n",
    "    stringa_inv = (\"\".join(reversed(stringa)))\n",
    "    return stringa_inv\n",
    "\n",
    "print('La stringa - ciao - al contrario si legge:',Inversione())"
   ]
  },
  {
   "cell_type": "code",
   "execution_count": 119,
   "id": "f419f7f7",
   "metadata": {},
   "outputs": [
    {
     "name": "stdout",
     "output_type": "stream",
     "text": [
      "Le parole che hanno più di 5 caratteri sono: ['chiamo', 'Lorenzo']\n",
      "Le parole che hanno più di 5 caratteri sono (con funzione): ['chiamo', 'Lorenzo']\n"
     ]
    }
   ],
   "source": [
    "#13 Scrivere una funzione che prenda in input una lista di stringhe e restituisca una lista contenente solo quelle che hanno una lunghezza maggiore di 5 caratteri.\n",
    "#versione senza funzione\n",
    "parole = [\"ciao\",\"mi\",\"chiamo\",\"Lorenzo\"]\n",
    "parole_lunghe = []\n",
    "\n",
    "for p in parole:\n",
    "    if len(p) > 5:\n",
    "        parole_lunghe.append(p)\n",
    "print('Le parole che hanno più di 5 caratteri sono:', parole_lunghe)\n",
    "\n",
    "#versione con funzione\n",
    "def paroleLunghe(parole):\n",
    "    parole_lunghe = []\n",
    "    for p in parole:\n",
    "        if len(p) > 5:\n",
    "            parole_lunghe.append(p)\n",
    "    return parole_lunghe\n",
    "print('Le parole che hanno più di 5 caratteri sono (con funzione):',paroleLunghe(parole))"
   ]
  },
  {
   "cell_type": "code",
   "execution_count": 121,
   "id": "4bb09105",
   "metadata": {},
   "outputs": [
    {
     "name": "stdout",
     "output_type": "stream",
     "text": [
      "Il numero più grande è: 51\n",
      "Il numero più grande con funzione è: 51\n"
     ]
    }
   ],
   "source": [
    "#14 Scrivere una funzione che prenda in input una lista di numeri interi e che restituisca quello più grande.\n",
    "#Versione denza funzione\n",
    "numeri = [2,14,51,20,32]\n",
    "numero_max = max(numeri)\n",
    "print('Il numero più grande è:', numero_max)\n",
    "\n",
    "#vesrione con funzione\n",
    "def numGrande(numeri):\n",
    "    numero_grande = max(numeri)\n",
    "    return numero_grande\n",
    "\n",
    "print('Il numero più grande con funzione è:', numGrande(numeri))"
   ]
  },
  {
   "cell_type": "code",
   "execution_count": 94,
   "id": "3c3cb0f2",
   "metadata": {},
   "outputs": [
    {
     "name": "stdout",
     "output_type": "stream",
     "text": [
      "La parola pù lunga è: Lorenzo\n",
      "La parola pù lunga con funzione è: Lorenzo\n"
     ]
    }
   ],
   "source": [
    "#15 Scrivere una funzione che prenda in input una lista di parole e che restituisca quella più lunga.\n",
    "#versione senza funzione\n",
    "parole = [\"ciao\",\"mi\",\"chiamo\",\"Lorenzo\"]\n",
    "parola_lunga = ''\n",
    "for p in parole:\n",
    "    if len(p) > len(parola_lunga):\n",
    "        parola_lunga = p\n",
    "print('La parola pù lunga è:', parola_lunga)\n",
    "\n",
    "#versione cocn funzione\n",
    "def parolaLunga(parole):\n",
    "    parola_lunga = ''\n",
    "    for p in parole:\n",
    "        if len(p) > len(parola_lunga):\n",
    "            parola_lunga = p\n",
    "    return parola_lunga\n",
    "print('La parola pù lunga con funzione è:', parolaLunga(parole))\n",
    "\n"
   ]
  },
  {
   "cell_type": "code",
   "execution_count": 90,
   "id": "68f6a9fa",
   "metadata": {},
   "outputs": [
    {
     "name": "stdout",
     "output_type": "stream",
     "text": [
      "Il numero è: 8\n",
      "<class 'str'>\n"
     ]
    }
   ],
   "source": [
    "#16 Scrivere una funzione che prenda in input un numero intero e restituisca il suo valore come stringa.\n",
    "def conversioneIntero(numero):\n",
    "    return int(numero)\n",
    "\n",
    "numero = 8\n",
    "numero_int = conversioneIntero(numero)\n",
    "print('Il numero è:', numero)\n",
    "print(type(str(numero)))"
   ]
  },
  {
   "cell_type": "code",
   "execution_count": 88,
   "id": "b35dcc33",
   "metadata": {},
   "outputs": [
    {
     "name": "stdout",
     "output_type": "stream",
     "text": [
      "La stringa è: 83\n",
      "<class 'int'>\n"
     ]
    }
   ],
   "source": [
    "#17 Scrivere una funzione che prenda in input una stringa rappresentante un numero intero e restituisca il valore intero corrispondente.\n",
    "def conversioneStringa(numero):\n",
    "    return str(numero)\n",
    "\n",
    "numero = '83'\n",
    "numero_str = conversioneStringa(numero)\n",
    "print('La stringa è:', numero)\n",
    "print(type(int(numero)))"
   ]
  },
  {
   "cell_type": "code",
   "execution_count": null,
   "id": "cbcf4abe",
   "metadata": {},
   "outputs": [
    {
     "name": "stdout",
     "output_type": "stream",
     "text": [
      "[2, 5, 8]\n",
      "<class 'int'>\n",
      "<class 'int'>\n",
      "<class 'int'>\n"
     ]
    }
   ],
   "source": [
    "#18 Scrivere una funzione che prenda in input una lista di numeri come stringhe e restituisca una lista di numeri interi.\n",
    "def numeriInteri(lista):\n",
    "    for n in range(len(lista)):\n",
    "        lista[n] = int(lista[n])\n",
    "    return lista\n",
    "    \n",
    "lista = ['2','5','8']\n",
    "lista = numeriInteri(lista)\n",
    "print(lista)\n",
    "\n",
    "for i in lista:\n",
    "    print(type(i))"
   ]
  },
  {
   "cell_type": "code",
   "execution_count": 78,
   "id": "95b5638e",
   "metadata": {},
   "outputs": [
    {
     "name": "stdout",
     "output_type": "stream",
     "text": [
      "['2', '5', '8']\n",
      "<class 'str'>\n",
      "<class 'str'>\n",
      "<class 'str'>\n"
     ]
    }
   ],
   "source": [
    "#19 Scrivere una funzione che prenda in input una lista di numeri interi e restituisca una lista di stringhe che rappresentano i numeri interi.\n",
    "def conversioneStringa(lista):\n",
    "    for n in range(len(lista)):\n",
    "        lista[n] = str(lista[n])\n",
    "    return lista\n",
    "\n",
    "lista = [2,5,8]\n",
    "lista = conversioneStringa(lista)\n",
    "print(lista)\n",
    "\n",
    "\n",
    "for i in lista:\n",
    "    print(type(i))"
   ]
  },
  {
   "cell_type": "code",
   "execution_count": 87,
   "id": "a82efb52",
   "metadata": {},
   "outputs": [
    {
     "name": "stdout",
     "output_type": "stream",
     "text": [
      "[7, 1, 8, 9, 0]\n"
     ]
    }
   ],
   "source": [
    "#20 Scrivere una funzione che prenda in input un numero intero e restituisca una lista contenente le sue cifre come numeri interi.\n",
    "def separazioneCifre(numero):\n",
    "    lista_cifre = []\n",
    "    for c in str(numero):\n",
    "        lista_cifre.append(int(c))\n",
    "    return lista_cifre\n",
    "\n",
    "numero = 71890\n",
    "lista_cifre = separazioneCifre(numero)\n",
    "print(lista_cifre)"
   ]
  },
  {
   "cell_type": "markdown",
   "id": "7d9069f3",
   "metadata": {},
   "source": [
    "Domande\n",
    "21) Qual è la differenza tra una costante e una variabile?\n",
    "Una costante mantiene il proprio valore immutato durante tutta l'esecuzione del listato, mentre il valore di una variabile può essere modificata in un secondo momento nel listato.\n",
    "\n",
    "22) Qual è la sintassi per dichiarare una variabile?\n",
    "Puoi assegnare il valore ad una variabile semplicemente dandole un nome e con il segno =, assegni il valore. \n",
    "ESEMPIO:\n",
    "numero = 71\n",
    "\n",
    "23) Qual è la sintassi per dichiarare una costante?\n",
    "Il metodo è lo stesso della variabile, ma il nome viene scritto in maiuscolo (COSTANTE = 'Lorenzo'). Tuttavia, questo è solamente una convenzione per i programmatori, dato che in questo modo è possibile ancora modificarla. Per avere il valore bloccato si possono usare altri metodi.\n",
    "\n",
    "24) Qual è il tipo di dato che rappresenta un insieme di valori univoci e immutabili?\n",
    "L'insieme di valori immutabili ed univoci può essere rappresentato dalle tuple.\n",
    "\n",
    "25) Qual è il tipo di dato che rappresenta un insieme di valori modificabili e indicizzati tramite chiavi?\n",
    "L'insieme di valori modificabili e indicizzati tramite chiavi è indubbiamente rappresentato dai Dizionari, dichiarato con le {} e costruito con un sistema chiave:valore.\n",
    "\n",
    "26) Qual è il tipo di dato che rappresenta un valore booleano?\n",
    "Il valore booleano viene rappresentato dal dato bool, che può avere 2 valori: True e False.\n",
    "\n",
    "27) Quale costrutto viene utilizzato per iterare su una sequenza di valori?\n",
    "I costrutti che possiamo utilizzare sono il for.. in.., oppure il ciclo while.\n",
    "\n",
    "28) Come si può interrompere un ciclo while?\n",
    "Il ciclo while si può concludere in diversi modi a seconda della necessità. Di soldito si usa break, exit o return.\n",
    "\n",
    "29) Qual è l'operatore di assegnazione in Python?\n",
    "L'operatore di assegnazine in python è il segno =.\n",
    "\n",
    "30) Cosa fa la funzione str() in Python?\n",
    "Questa funzione forza il cambio di tipo di un valore intero, fluttuante o complesso, ma anche liste in stringhe."
   ]
  }
 ],
 "metadata": {
  "kernelspec": {
   "display_name": "venv",
   "language": "python",
   "name": "python3"
  },
  "language_info": {
   "codemirror_mode": {
    "name": "ipython",
    "version": 3
   },
   "file_extension": ".py",
   "mimetype": "text/x-python",
   "name": "python",
   "nbconvert_exporter": "python",
   "pygments_lexer": "ipython3",
   "version": "3.13.3"
  }
 },
 "nbformat": 4,
 "nbformat_minor": 5
}
